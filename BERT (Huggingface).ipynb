{
 "cells": [
  {
   "cell_type": "markdown",
   "metadata": {},
   "source": [
    "# Exploring the Capabilities of Pre-trained Language Models\n",
    "## Using the Huggingface Transformers Library"
   ]
  },
  {
   "cell_type": "markdown",
   "metadata": {},
   "source": [
    "### Install transformers library\n",
    "Under an Apache license, permitted for distribution and commercial use"
   ]
  },
  {
   "cell_type": "code",
   "execution_count": 2,
   "metadata": {},
   "outputs": [
    {
     "name": "stdout",
     "output_type": "stream",
     "text": [
      "Collecting transformers\n",
      "  Using cached transformers-4.16.2-py3-none-any.whl (3.5 MB)\n",
      "Requirement already satisfied: numpy>=1.17 in /opt/anaconda3/lib/python3.7/site-packages (from transformers) (1.18.5)\n",
      "Collecting sacremoses\n",
      "  Using cached sacremoses-0.0.47-py2.py3-none-any.whl (895 kB)\n",
      "Requirement already satisfied: requests in /opt/anaconda3/lib/python3.7/site-packages (from transformers) (2.22.0)\n",
      "Requirement already satisfied: pyyaml>=5.1 in /opt/anaconda3/lib/python3.7/site-packages (from transformers) (5.1.2)\n",
      "Collecting regex!=2019.12.17\n",
      "  Downloading regex-2022.1.18-cp37-cp37m-macosx_10_9_x86_64.whl (289 kB)\n",
      "\u001b[K     |████████████████████████████████| 289 kB 2.6 MB/s eta 0:00:01\n",
      "\u001b[?25hCollecting tokenizers!=0.11.3,>=0.10.1\n",
      "  Downloading tokenizers-0.11.4-cp37-cp37m-macosx_10_11_x86_64.whl (3.7 MB)\n",
      "\u001b[K     |████████████████████████████████| 3.7 MB 4.3 MB/s eta 0:00:01\n",
      "\u001b[?25hRequirement already satisfied: tqdm>=4.27 in /opt/anaconda3/lib/python3.7/site-packages (from transformers) (4.36.1)\n",
      "Collecting huggingface-hub<1.0,>=0.1.0\n",
      "  Using cached huggingface_hub-0.4.0-py3-none-any.whl (67 kB)\n",
      "Collecting packaging>=20.0\n",
      "  Using cached packaging-21.3-py3-none-any.whl (40 kB)\n",
      "Requirement already satisfied: importlib-metadata in /opt/anaconda3/lib/python3.7/site-packages (from transformers) (0.23)\n",
      "Requirement already satisfied: filelock in /opt/anaconda3/lib/python3.7/site-packages (from transformers) (3.0.12)\n",
      "Requirement already satisfied: typing-extensions>=3.7.4.3 in /opt/anaconda3/lib/python3.7/site-packages (from huggingface-hub<1.0,>=0.1.0->transformers) (3.7.4.3)\n",
      "Requirement already satisfied: pyparsing!=3.0.5,>=2.0.2 in /opt/anaconda3/lib/python3.7/site-packages (from packaging>=20.0->transformers) (2.4.2)\n",
      "Requirement already satisfied: zipp>=0.5 in /opt/anaconda3/lib/python3.7/site-packages (from importlib-metadata->transformers) (0.6.0)\n",
      "Requirement already satisfied: more-itertools in /opt/anaconda3/lib/python3.7/site-packages (from zipp>=0.5->importlib-metadata->transformers) (7.2.0)\n",
      "Requirement already satisfied: urllib3!=1.25.0,!=1.25.1,<1.26,>=1.21.1 in /opt/anaconda3/lib/python3.7/site-packages (from requests->transformers) (1.24.2)\n",
      "Requirement already satisfied: certifi>=2017.4.17 in /opt/anaconda3/lib/python3.7/site-packages (from requests->transformers) (2019.9.11)\n",
      "Requirement already satisfied: chardet<3.1.0,>=3.0.2 in /opt/anaconda3/lib/python3.7/site-packages (from requests->transformers) (3.0.4)\n",
      "Requirement already satisfied: idna<2.9,>=2.5 in /opt/anaconda3/lib/python3.7/site-packages (from requests->transformers) (2.8)\n",
      "Requirement already satisfied: click in /opt/anaconda3/lib/python3.7/site-packages (from sacremoses->transformers) (7.0)\n",
      "Requirement already satisfied: six in /opt/anaconda3/lib/python3.7/site-packages (from sacremoses->transformers) (1.15.0)\n",
      "Requirement already satisfied: joblib in /opt/anaconda3/lib/python3.7/site-packages (from sacremoses->transformers) (0.13.2)\n",
      "Installing collected packages: regex, packaging, tokenizers, sacremoses, huggingface-hub, transformers\n",
      "  Attempting uninstall: packaging\n",
      "    Found existing installation: packaging 19.2\n",
      "    Uninstalling packaging-19.2:\n",
      "      Successfully uninstalled packaging-19.2\n",
      "Successfully installed huggingface-hub-0.4.0 packaging-21.3 regex-2022.1.18 sacremoses-0.0.47 tokenizers-0.11.4 transformers-4.16.2\n",
      "\u001b[33mWARNING: You are using pip version 21.1.2; however, version 22.0.2 is available.\n",
      "You should consider upgrading via the '/opt/anaconda3/bin/python -m pip install --upgrade pip' command.\u001b[0m\n",
      "Note: you may need to restart the kernel to use updated packages.\n"
     ]
    }
   ],
   "source": [
    "pip install transformers"
   ]
  },
  {
   "cell_type": "markdown",
   "metadata": {},
   "source": [
    "## Using the built-in ML pipeline\n",
    "### Easiest way to perform a NLP task from data processing to inference"
   ]
  },
  {
   "cell_type": "code",
   "execution_count": 5,
   "metadata": {},
   "outputs": [],
   "source": [
    "from transformers import pipeline"
   ]
  },
  {
   "cell_type": "markdown",
   "metadata": {},
   "source": [
    "### Sentiment Analysis Task"
   ]
  },
  {
   "cell_type": "code",
   "execution_count": 13,
   "metadata": {},
   "outputs": [],
   "source": [
    "sentiment_classifier = pipeline(\"sentiment-analysis\", model=\"distilbert-base-uncased-finetuned-sst-2-english\")"
   ]
  },
  {
   "cell_type": "code",
   "execution_count": 7,
   "metadata": {},
   "outputs": [],
   "source": [
    "neg_text = \"Since it’s a relatively new technology, there’s little research to establish the long-term consequences, good or bad, of social media use. However, multiple studies have found a strong link between heavy social media and an increased risk for depression, anxiety, loneliness, self-harm, and even suicidal thoughts.\"\n",
    "pos_text = \"While virtual interaction on social media doesn’t have the same psychological benefits as face-to-face contact, there are still many positive ways in which it can help you stay connected and support your wellbeing.\""
   ]
  },
  {
   "cell_type": "code",
   "execution_count": 8,
   "metadata": {},
   "outputs": [
    {
     "data": {
      "text/plain": [
       "'Since it’s a relatively new technology, there’s little research to establish the long-term consequences, good or bad, of social media use. However, multiple studies have found a strong link between heavy social media and an increased risk for depression, anxiety, loneliness, self-harm, and even suicidal thoughts.'"
      ]
     },
     "execution_count": 8,
     "metadata": {},
     "output_type": "execute_result"
    }
   ],
   "source": [
    "neg_text"
   ]
  },
  {
   "cell_type": "code",
   "execution_count": 11,
   "metadata": {},
   "outputs": [
    {
     "name": "stdout",
     "output_type": "stream",
     "text": [
      "Label: NEGATIVE\n",
      "Confidence Score: 0.7628253698348999\n"
     ]
    }
   ],
   "source": [
    "result = sentiment_classifier(neg_text)[0]\n",
    "print(\"Label:\", result['label'])\n",
    "print(\"Confidence Score:\", result['score'])"
   ]
  },
  {
   "cell_type": "code",
   "execution_count": 9,
   "metadata": {},
   "outputs": [
    {
     "data": {
      "text/plain": [
       "'While virtual interaction on social media doesn’t have the same psychological benefits as face-to-face contact, there are still many positive ways in which it can help you stay connected and support your wellbeing.'"
      ]
     },
     "execution_count": 9,
     "metadata": {},
     "output_type": "execute_result"
    }
   ],
   "source": [
    "pos_text"
   ]
  },
  {
   "cell_type": "code",
   "execution_count": 12,
   "metadata": {},
   "outputs": [
    {
     "name": "stdout",
     "output_type": "stream",
     "text": [
      "Label: POSITIVE\n",
      "Confidence Score: 0.9994938373565674\n",
      "\n"
     ]
    }
   ],
   "source": [
    "result = sentiment_classifier(pos_text)[0]\n",
    "print(\"Label:\", result['label'])\n",
    "print(\"Confidence Score:\", result['score'])\n",
    "print()"
   ]
  },
  {
   "cell_type": "markdown",
   "metadata": {},
   "source": [
    "### Evaluate sentiment on large movie review dataset"
   ]
  },
  {
   "cell_type": "code",
   "execution_count": 78,
   "metadata": {},
   "outputs": [],
   "source": [
    "## load data\n",
    "pos_reviews_test = []\n",
    "for line in open('../datasets/aclImdb/movie_data/pos_full_test.txt', 'r'):\n",
    "    pos_reviews_test.append(line.strip())\n",
    "\n",
    "neg_reviews_test = []\n",
    "for line in open('../datasets/aclImdb/movie_data/neg_full_test.txt', 'r'):\n",
    "    neg_reviews_test.append(line.strip())"
   ]
  },
  {
   "cell_type": "code",
   "execution_count": 79,
   "metadata": {},
   "outputs": [
    {
     "data": {
      "text/plain": [
       "\"I went and saw this movie last night after being coaxed to by a few friends of mine. I'll admit that I was reluctant to see it because from what I knew of Ashton Kutcher he was only able to do comedy. I was wrong. Kutcher played the character of Jake Fischer very well, and Kevin Costner played Ben Randall with such professionalism. The sign of a good movie is that it can toy with our emotions. This one did exactly that. The entire theater (which was sold out) was overcome by laughter during the first half of the movie, and were moved to tears during the second half. While exiting the theater I not only saw many women in tears, but many full grown men as well, trying desperately not to let anyone see them crying. This movie was great, and I suggest that you go see it before you judge.\""
      ]
     },
     "execution_count": 79,
     "metadata": {},
     "output_type": "execute_result"
    }
   ],
   "source": [
    "pos_reviews_test[0]"
   ]
  },
  {
   "cell_type": "code",
   "execution_count": 80,
   "metadata": {},
   "outputs": [
    {
     "data": {
      "text/plain": [
       "\"Once again Mr. Costner has dragged out a movie for far longer than necessary. Aside from the terrific sea rescue sequences, of which there are very few I just did not care about any of the characters. Most of us have ghosts in the closet, and Costner's character are realized early on, and then forgotten until much later, by which time I did not care. The character we should really care about is a very cocky, overconfident Ashton Kutcher. The problem is he comes off as kid who thinks he's better than anyone else around him and shows no signs of a cluttered closet. His only obstacle appears to be winning over Costner. Finally when we are well past the half way point of this stinker, Costner tells us all about Kutcher's ghosts. We are told why Kutcher is driven to be the best with no prior inkling or foreshadowing. No magic here, it was all I could do to keep from turning it off an hour in.\""
      ]
     },
     "execution_count": 80,
     "metadata": {},
     "output_type": "execute_result"
    }
   ],
   "source": [
    "neg_reviews_test[0]"
   ]
  },
  {
   "cell_type": "code",
   "execution_count": 81,
   "metadata": {},
   "outputs": [],
   "source": [
    "precision_score = 0\n",
    "total_count = 0"
   ]
  },
  {
   "cell_type": "code",
   "execution_count": 82,
   "metadata": {},
   "outputs": [
    {
     "name": "stdout",
     "output_type": "stream",
     "text": [
      "I went and saw this movie last night after being coaxed to by a few friends of mine. I'll admit that I was reluctant to see it because from what I knew of Ashton Kutcher he was only able to do comedy. I was wrong. Kutcher played the character of Jake Fischer very well, and Kevin Costner played Ben Randall with such professionalism. The sign of a good movie is that it can toy with our emotions. This one did exactly that. The entire theater (which was sold out) was overcome by laughter during the first half of the movie, and were moved to tears during the second half. While exiting the theater I not only saw many women in tears, but many full grown men as well, trying desperately not to let anyone see them crying. This movie was great, and I suggest that you go see it before you judge.\n",
      "Model Prediction:  POSITIVE\n",
      "Actual Label:  POSITIVE\n",
      "I saw this film in a sneak preview, and it is delightful. The cinematography is unusually creative, the acting is good, and the story is fabulous. If this movie does not do well, it won't be because it doesn't deserve to. Before this film, I didn't realize how charming Shia Lebouf could be. He does a marvelous, self-contained, job as the lead. There's something incredibly sweet about him, and it makes the movie even better. The other actors do a good job as well, and the film contains moments of really high suspense, more than one might expect from a movie about golf. Sports movies are a dime a dozen, but this one stands out. <br /><br />This is one I'd recommend to anyone.\n",
      "Model Prediction:  POSITIVE\n",
      "Actual Label:  POSITIVE\n",
      "I felt this film did have many good qualities. The cinematography was certainly different exposing the stage aspect of the set and story. The original characters as actors was certainly an achievement and I felt most played quite convincingly, of course they are playing themselves, but definitely unique. The cultural aspects may leave many disappointed as a familiarity with the Chinese and Oriental culture will answer a lot of questions regarding parent/child relationships and the stigma that goes with any drug use. I found the Jia Hongsheng story interesting. On a down note, the story is in Beijing and some of the fashion and music reek of early 90s even though this was made in 2001, so it's really cheesy sometimes (the Beatles crap, etc). Whatever, not a top ten or twenty but if it's on the television, check it out.\n",
      "Model Prediction:  POSITIVE\n",
      "Actual Label:  POSITIVE\n",
      "This movie is amazing because the fact that the real people portray themselves and their real life experience and do such a good job it's like they're almost living the past over again. Jia Hongsheng plays himself an actor who quit everything except music and drugs struggling with depression and searching for the meaning of life while being angry at everyone especially the people who care for him most. There's moments in the movie that will make you wanna cry because the family especially the father did such a good job. However, this movie is not for everyone. Many people who suffer from depression will understand Hongsheng's problem and why he does the things he does for example keep himself shut in a dark room or go for walks or bike rides by himself. Others might see the movie as boring because it's just so real that its almost like a documentary. Overall this movie is great and Hongsheng deserved an Oscar for this movie so did his Dad.\n",
      "Model Prediction:  POSITIVE\n",
      "Actual Label:  POSITIVE\n",
      "I was fortunate to attend the London premier of this film. While I am not at all a fan of British drama, I did find myself deeply moved by the characters and the BAD CHOICES they made. I was in tears by the end of the film. Every scene was mesmerizing. The attention to detail and the excellent acting was quite impressive.<br /><br />I would have to agree with some of the other comments here which question why all these women were throwing themselves at such a despicable character.<br /><br />*******SPOLIER ALERT******** I was also hoping that Dylan would have been killed by William when he had the chance! ****END SPOILER*****<br /><br />Keira Knightley did a great job and radiate beauty and innocence from the screen, but it was Sienna Miller's performance that was truly Oscar worthy.<br /><br />I am sure this production will be nominated for other awards.\n",
      "Model Prediction:  POSITIVE\n",
      "Actual Label:  POSITIVE\n",
      "I must say, every time I see this movie, I am deeply touched, not only by the most painful four years of Hongsheng's life, but also by how his family deals with his drug addiction. It is also true that getting addicted to anything, such as drugs, alcohol, or pornography, cannot only hurt you, but also hurt your most important people in the world: your family. Since family is the #1 priority in the Asian culture, it takes guts for the circle to gather together and show one person how much the family loves him/her. this is actually the first Chinese movie that I actually enjoy, not for the fun of it, but the elements surrounding it (superb acting, touching story, great direction) make this movie worth watching. What stands out the most is that Hongsheng and his family act out the story themselves instead of having some B-movie actor trying to imitate the real person. It shows the genuineness of the movie.\n",
      "Model Prediction:  POSITIVE\n",
      "Actual Label:  POSITIVE\n",
      "My wife is a mental health therapist and we watched it from beginning to end. I am the typical man and can not stand chick flicks, but this movie is unbelievable. If you want to see what it is like for someone who is going through these type of struggles, this is the movie for you. As I watched it I found myself feeling sorry for him and others like him. <br /><br />***Spoiler*** Plus the fact that all the individuals in the movie including the people in the mental institution were the actual people in real life made it that more real.<br /><br />A must see for someone in the mental health profession!\n",
      "Model Prediction:  POSITIVE\n",
      "Actual Label:  POSITIVE\n",
      "I went into \"Night of the Hunted\" not knowing what to expect at all. I was really impressed.<br /><br />It is essentially a mystery/thriller where this girl who can't remember anything gets 'rescued' by a guy who happens to be driving past. The two become fast friends and lovers and together, they try to figure out what is going on with her. Through some vague flashbacks and grim memories, they eventually get to the bottom of it and the ending is pretty cool.<br /><br />I really liked the setting of this one: a desolate, post-modern Paris is the backdrop with lots of gray skies and tall buildings. Very metropolitan. Groovy soundtrack and lots of nudity.<br /><br />Surprising it was made in 1980; seems somewhat ahead of it's time.<br /><br />8 out of 10, kids.\n",
      "Model Prediction:  POSITIVE\n",
      "Actual Label:  POSITIVE\n",
      "Felix in Hollywood is a great film. The version I viewed was very well restored, which is sometimes a problem with these silent era animated films. It has some of Hollywood's most famous stars making cameo animated appearances. A must for any silent film or animation enthusiast.\n",
      "Model Prediction:  POSITIVE\n",
      "Actual Label:  POSITIVE\n",
      "A gem of a cartoon from the silent era---it was re-discovered by CARTOON NETWORK, and was broadcast for likely the first time in decades, if ever.<br /><br />What makes this so enjoyable are the varied cameos...Douglas Fairbanks is attacked by giant mosquitos; Will Hays pays a visit as 'boss' of Static Studios; as well as appearances by Chaplin, Keaton, and William S. Hart. The image of chewing gum decimating the shoes of the populace (a money-making idea for Felix's near-bankrupt shoe-=salesman boss) cannot be described--it must be viewed. A terrific cultural gem.\n",
      "Model Prediction:  POSITIVE\n",
      "Actual Label:  POSITIVE\n",
      "This short is one of the best of all time and is proof (just like most of Charlie Chaplin's work) that sound and color are not requirements for quality work. In fact, this cartoon uses (and may have started) some of the gags and devices that became standard in animation in later years, like caricatures of celebrities (including the afore-mentioned Chaplin. While the characters are silent, they do \"speak\", by use of word balloons, just like in the comics. Given that Felix started out in newspapers as a comic strip, this device is a natural. The atmosphere and style of the short is completely harmonious with that of the comic strip while adding another dimension (literally and figuratively) and makes this short a delight to watch. Well worth taking the time and effort to get. Most highly recommended.\n",
      "Model Prediction:  POSITIVE\n",
      "Actual Label:  POSITIVE\n"
     ]
    },
    {
     "name": "stdout",
     "output_type": "stream",
     "text": [
      "While I can't say whether or not Larry Hama ever saw any of the old cartoons, I would think that writing said cartoons, file cards, and some of the comics would count for something.<br /><br />For fans of the old cartoon, this is pretty much a continuation of the same, except with a few new characters - and a more insane Cobra Commander.<br /><br />We still have all the old favorites too, but on a personal note, one thing that always irritated me was this \"Duke in charge\" stuff, when there are tons of other *officers* around instead.<br /><br />The battle sequences are similar to the old series as well; the main trick here seems to be the CGI. It's overall pretty good, if not a little over-the-top.\n",
      "Model Prediction:  POSITIVE\n",
      "Actual Label:  POSITIVE\n",
      "After working on 7 movies with director Mickael Curtiz (The Adventures of Robin Hood are their best achievement), Errol Flynn got tired of his dictatorial direction and decided to work with the great Raoul Walsh. This reunion is a happy thing for cinematography. THE DIED WITH THEIR BOOTS ON is their first and best film together. Raoul Walsh portrays the General George Armstrong Custer (Errol Flynn) from his debuts at West Point, to the Civil War and finally at the battle of Little Big Horn. It's true the film shows a too heroic portrait of Custer, but that's not important. What is important, is the fact that we are transported with the passion and glory carried by the characters. Who can forget California Joe, the great \"Queen's Own Buttler\" with his song \"Garryowen\", the touching Mrs Custer (Olivia de Havilland), the diabolic Sharp well played by Arthur Kennedy ?<br /><br />An eternal blow remains on this epic and tragic freso.\n",
      "Model Prediction:  POSITIVE\n",
      "Actual Label:  POSITIVE\n",
      "I was fortunate to attend the London premier of this film. While I am not at all a fan of British drama, I did find myself deeply moved by the characters and the BAD CHOICES they made. I was in tears by the end of the film. Every scene was mesmerizing. The attention to detail and the excellent acting was quite impressive.<br /><br />I would have to agree with some of the other comments here which question why all these women were throwing themselves at such a despicable character.<br /><br />*******SPOLIER ALERT******** I was also hoping that Dylan would have been killed by William when he had the chance! ****END SPOILER*****<br /><br />Keira Knightley did a great job and radiate beauty and innocence from the screen, but it was Sienna Miller's performance that was truly Oscar worthy.<br /><br />I am sure this production will be nominated for other awards.\n",
      "Model Prediction:  POSITIVE\n",
      "Actual Label:  POSITIVE\n",
      "The historical inaccuracies of this film have been well documented. It was never intended to be serious history but an entertaining saga and there it succeeds. Errol Flynn was never better as this role was tailored for him. Olivia DeHavilland was never more beautiful. Arthur Kennedy never more villainous. Anthony Quinn never more noble than as Crazy Horse. It had much humor and pathos and held your interest throughout. The one historical aspect I found most glaringly inaccurate was the final \"Last Stand\" which occurred on the banks of the Little Big Horn. The film version was filmed in a desert with no river in sight. However, I still consider it marvelous entertainment typical of Hollywood's golden age.\n",
      "Model Prediction:  POSITIVE\n",
      "Actual Label:  POSITIVE\n",
      "The film is excellent. One of the most noteworthy things about it is that Flynn's performance is superb. This is worth stressing, as he was often derided as an actor by Bette Davis et al.<br /><br />I remember the scene where Flynn gets Arthur Kennedy drunk in order to take him to his doom at the Battle of the Little Big Horn. The cold, calculating look on Flynn's face as he does so is extraordinary - much better than the much vaunted Spencer Tracy or many other stars could have done.<br /><br />The other thing to note is the excellent performance by George P. Huntley Jr as Lt \"Queen's Own\" Butler. It is baffling why he stopped making films shortly afterwards - one would have thought that he would have been set up for years after as a character actor.\n",
      "Model Prediction:  POSITIVE\n",
      "Actual Label:  POSITIVE\n",
      "As a history of Custer, this insn't even close (Custer dies to help the indians? I am sure the other members of the 7th Cav weren't consulted in THAT decision.) But as a western, this is fun. Flynn looks, and acts, the part of the dashing cavalier. And the \"Garry Owen\" is always nice to hear!\n",
      "Model Prediction:  POSITIVE\n",
      "Actual Label:  POSITIVE\n",
      "Although \"They Died with their Boots On\" is not entirely historically accurate it is a very entertaining western. Not only is Flynn the perfect Custer, the character actors are superb. Besides the action portion of the movie Flynn and DeHavilland's love scenes are very touching and believable.(Flynn and DeHavilland were very fond of each other in real life). Flynn was always so tormented for being not taken seriously if only he knew that there were very few actors who could play the characters he played and play them well!\n",
      "Model Prediction:  POSITIVE\n",
      "Actual Label:  POSITIVE\n",
      "Errol Flynn at his best as Robin Hood of the West, fighting military red tape, confederates , indians and carpetbagger business crooks singlehanded to his great and final heroic end. Not to forget the ever reliable O. de Havilland as Lady Mary of the west. Never try to link this story to the facts and the real persons, it doesn't work out. Just enjoy it, because nobody ever claimed to make documentaries when Raoul Walsh and Errol Flynn co-worked.\n",
      "Model Prediction:  POSITIVE\n",
      "Actual Label:  POSITIVE\n",
      "great historical movie, will not allow a viewer to leave once you begin to watch. View is presented differently than displayed by most school books on this subject. My only fault for this movie is it was photographed in black and white; wished it had been in color ... wow !\n",
      "Model Prediction:  NEGATIVE\n",
      "Actual Label:  POSITIVE\n",
      "I saw this film over Christmas, and what a great film it was! It tells the story of Custer (played by Errol Flynn) during and after his graduation from Westpoint. Although I've heard that the film isn't very historically accurate (Hollywood never is) I still enjoyed it as I knew little of the real events anyway.<br /><br />I thought Errol Flynn was brilliant as Custer and has since become my favourite actor! His acting alongside Olivia De Havilland was brilliant and the ending was fantastic! It brought me close to tears as he and Ned Sharp (Arthur Kennedy) rode to their deaths on little big horn.<br /><br />I had always known that Errol Flynn was a brilliant actor as he was my dads favourite actor, and I grew up watching his films as a child. But it wasn't until I watched this film that I realised how great he actually was.<br /><br />I'll give this film 10 out of 10!!\n",
      "Model Prediction:  POSITIVE\n",
      "Actual Label:  POSITIVE\n",
      "Although this film changes reality to make it more heroic and entertaining, sometimes fantasy is more enjoyable than real life, and also nothing could be more real than Errol Flynn playing Custer. This remains the best film made about Custer. The music of Max Steiner is magnificent and also all through the film the Irish song \"Gerry Owen\", which was a favourite of Custer is played. The film should have more villains, because they try to concentrate all the bad guys in Arthur Kennedy. The relationship between Flynn and De Havilland flows like in no other off their films together, and director Raoul Walsh with his experience in outside scenes with a lot of actors is at his best.\n",
      "Model Prediction:  POSITIVE\n",
      "Actual Label:  POSITIVE\n",
      "The Custer Legend, a la Warner Brothers Epic. There's no casting against type here, with the flamboyant Flynn as the flamboyant Custer in this rousing tribute, not only to Custer, but to the men of the 7th Cavalry. The story traces the life of the famed 'Boy General\" from his turbulent days at West Point to his final fight at the Little Big Horn. Great liberties are taken with facts here, and we are presented with a Custer that is much more sympathetic to the plight of the redman than history relates. But this one is done on such a grand scale, the battle scenes alone provided employment for every extra in Hollywood. Down beat ending and all, this is great fun!\n",
      "Model Prediction:  POSITIVE\n",
      "Actual Label:  POSITIVE\n",
      "I had seen this movie as a kid and loved it. I loved how spunky and full of energy Nikki is, and how she mostly ruins Louden's perfect yuppie life and corrupts him and turns him on to her crazy ways. As a kid in the 80's I saw New York exactly the way it was portrayed in this movie, the domain of Madonna's character, with wild animals running rampant and hideous bald men chasing people around and causing havoc. Now as an adult I find I love the movie for the same reasons, and even more so for the love story woven into the crazy antics of Ms. Nikki Finn. Although I would still love to go anywhere and find an indoor atrium like in this movie. Pure beauty and genius.\n",
      "Model Prediction:  POSITIVE\n",
      "Actual Label:  POSITIVE\n"
     ]
    },
    {
     "name": "stdout",
     "output_type": "stream",
     "text": [
      "i have to rate this movie at a 10. i'm sorry but i think it's classic comedy. then, if you're rating it to other Madonna movies...well, what? you wanna tell me it wasn't her best movie ever? didn't Mira Sorvino win an Oscar for almost the same performance not ten years later? please, this movie deserves much more credit than it gets. plus, i like to think of it as an A+ sociological study into the lifestyles of the 80's. remember when you could shoplift from Sam Goody and Cartier in the same day? remember when women wore bushy eyebrows proudly? so it was no \"Last Emperor\", it was still good. there are certain movies i'd be willing to watch everyday. three, actually, that pep up my day and make me smile. if you like \"Who's That Girl?\" then i'd also recommend \"Party Girl\" and \"Romy and Michelle's High School Reunion\".\n",
      "Model Prediction:  POSITIVE\n",
      "Actual Label:  POSITIVE\n",
      "Nikki Finn is the kind of girl I would marry. Never boring, always thinking positively, good with animals. Okay, as one reviewer wrote, a bit too much peroxide, lipstick, and eyebrows (Only Madonna could get away with that). But that's why I love Nikki Finn, she's not your ordinary girl. She makes things happen, always exciting to be around, and always honest. Sure, she steals, but she doesn't rob or murder (unless you're out to do her in). She knows which rules can be broken and which ones should be obeyed. She knows what to take and what can't be stolen. If you need a favor from her, she's in 100%. Bottom line: She knows how to enjoy life. Nikki is always loving (which is why she has a way with wild animals), and completely dedicated to those she loves, and who love her.<br /><br />Who's That Girl? She's the girl for me.\n",
      "Model Prediction:  POSITIVE\n",
      "Actual Label:  POSITIVE\n",
      "When I see a movie, I usually seek entertainment. But of course if I know what genre the move is, then I will seek what it is meant to do. For example, if it is a deep film, I expect the film to rile thoughts up in my cranium and make me ponder what it is saying. But Who's That Girl? is not a deep film. But it is entertaining, nonetheless. It's a campy sort of film that's a joy to watch. There's barely a boring moment in the film and there are plenty of humorous parts. I've watched it when I was younger. The cast is always entertaining as usual. I had a small crush on Griffin Dunne even though he wasn't the typical male heartthrob at the time. Haviland Morris also stars. And late Austrian actress Bibi Besch is here too! Overall, a delight!\n",
      "Model Prediction:  POSITIVE\n",
      "Actual Label:  POSITIVE\n",
      "Why does everyone feel they have to constantly put this movie down? It is cute and funny (exactly what it is meant to be). Madonna wasn't out to prove herself as an Oscar calliber artist with this movie anyhow! She was just doing what the character called for, and she did it well. I loved her in this movie; it is my second favorite Madonna movie after Evita. The soundtrack is excellent too. It is no better or no worse than any cheesy 80's flick. To all the critics, just don't take it so seriously and you might have fun watching it. Madonna is a goddess!!!\n",
      "Model Prediction:  POSITIVE\n",
      "Actual Label:  POSITIVE\n",
      "In this TV special Jon is the one who needs a life. The highlight of his day is counting the tiles on the ceiling and rearranging his sock drawer. Not content with this forever, Jon takes Garfield to a self help group in order to meet people. How many people will be interested in a loner 20-something who's best friend is a cat?<br /><br />After several failed attempts at getting a girl, including one cringeworthy dance scene that rivals David Brents' fusion of Flashdance and MC Hammer in The Office (Disco's dead?, says Jon), he is more than shocked to find a cute girl who is as much as a jerk as himself. <br /><br />Naturally, they get on but Garfield is worried that John will forget about him and prefer having kids to a cat. Fortunately Jon's new girlfriend is allergic to cats. <br /><br />With slicker animation than past TV specials, this feels like a longer episode of Garfield and Friends.\n",
      "Model Prediction:  NEGATIVE\n",
      "Actual Label:  POSITIVE\n",
      "This movie is so good! I first seen it when i was six, then i bought it recently and i still love it, im 15 now. Plus, the acting was great, and Madonna is my idol and she did a phat job! Alot of people didnt like this movie, and i still to this day dont understand why.\n",
      "Model Prediction:  POSITIVE\n",
      "Actual Label:  POSITIVE\n",
      "One of the funniest, most romantic, and most musical movies ever; definitely worth renting/buying especially if you have a taste for older style of cinematography.<br /><br /> The animals and the songs alone will make you smile while watching the movie. A definite must for Madonna fans. :o)\n",
      "Model Prediction:  POSITIVE\n",
      "Actual Label:  POSITIVE\n",
      "For late-80s cheese, this really isn't so bad. There are a lot of pretty funny throwaway one-liners (\"That was grand theft!\" - \"Thanks!\") and Madonna gives a fine performance; nothing award-worthy here, but that goes for Razzies as well as Oscars. I'm curious to know if the movie would have been better received if she had used her regular (pre-British influenced) speaking voice rather than the hyper-Bronxy accent used instead. Oh well. As a side note, I got to meet one of the actors who played one of the motorcycle cops through my work; he said that it was a fun film to work on but gave me the sad news that the actor who played Buck the UPS delivery guy died about a year after Who's That Girl\n",
      "Model Prediction:  NEGATIVE\n",
      "Actual Label:  POSITIVE\n",
      "Fantastic, Madonna at her finest, the film is funny and her acting is brilliant. It may have been made in the 80's but it has all the qualities of a modern Hollywood Block-buster. I love this film and i think its totally unique and will cheer up any droopy person within a matter of minutes. Fantastic.\n",
      "Model Prediction:  POSITIVE\n",
      "Actual Label:  POSITIVE\n",
      "I had seen this movie before, but I could not remember it was this fantastic: it has a fun plot, Madonna fumbles around the city with pumas etc. causing a commotion. And the music is just perfect! And the happy ending! Who´s that girl is a great choice for a romanticist like me. In my opinion this could be even the best Madonna movie I have ever seen! 10/10\n",
      "Model Prediction:  POSITIVE\n",
      "Actual Label:  POSITIVE\n",
      "If this film had been made in the 50's or 60's, critics and fans alike would have praised it. I myself, enjoyed the film from beginning to end. It's not a timeless piece, and has not aged well over the years, but it is enjoyable to watch, nonetheless. As for Mrs. Ritchie's acting in the film? Not the best on the planet -- but it adds to the film's unique slapstick comedy-aspirations, and showcases Madonna's (often underrated) sense of comedic timing. Madonna plays Nikki Finn, an ex-convict who was framed for a crime she didn't commit. Griffin Dunne plays the hapless future groom/puppet who is sent to escort her from prison to the bus station, where a series of unfortunate events occurs, thus creating the plot. (And there *is* one, folks!) Give the film a shot. You might be pleasantly surprised at how funny it really is.\n",
      "Model Prediction:  POSITIVE\n",
      "Actual Label:  POSITIVE\n",
      "Madonna gets into action, again and she fails again! Who's That Girl was released just one year after the huge flop of Shangai Surprise and two after the successful cult movie Desperately seeking Susan. She chose to act in it to forget the flop of the previous movie, not suspecting that this latter could be a flop, too. The movie received a bad acceptance by American critic and audience, while in Europe it was a success. Madonna states that \"Some people don't want that she's successful both as a pop star and a movie-star\". The soundtrack album, in which she sings four tracks sells well and the title-track single was agreat hit all over the world, as like as the World Tour. The truth isthat Madonna failed as an actress 'cause the script was quite weak. Butit's not so bad, especially for those who like the 80's: it's such a ramshackle, trash, colorful and joyful action movie ! At the end, it's very funny to watch it.\n",
      "Model Prediction:  POSITIVE\n",
      "Actual Label:  POSITIVE\n"
     ]
    },
    {
     "name": "stdout",
     "output_type": "stream",
     "text": [
      "I am really sad that that this film has got so much negative criticism. I think it is a nice little comedy and really funny. The humour in this film is kind of warm and innocent and I like it. I also like Madonna's character and I do not agree that she played herself. She has created a character and a sympathetic one. <br /><br />My favourite scenes were the fighting scene on top of the sinking car and where Madonna climbs over the fence in a fancy dress to claim her love. The humour in the film has a slightly syrrealistic touch and perhaps it is not everybody's cup of tea. But it's their problem, not of the film. <br /><br />I found this film wholesome and sunny. In fact, the day I first saw it I was incredibly sad for some reason and this film lit up my day. And Madonna can act. Just take off your glasses of negative thinking.\n",
      "Model Prediction:  POSITIVE\n",
      "Actual Label:  POSITIVE\n",
      "Don't listen to what the critics have always said about this cute, charming little movie. Madonna is GREAT in this clever comedy. I worked at a video store for several years and suggested this movie to lots of customers- no one EVER brought it back and screamed at me for telling them to rent it. Everyone always enjoyed it. It's actually a great movie for kids, too.\n",
      "Model Prediction:  POSITIVE\n",
      "Actual Label:  POSITIVE\n",
      "So, Madonna isn't Meryl Streep. Still, this is one of her first films and a comedy at that. Give her a break! Sure, the movie is mediocre at best and pales in comparison to its earlier counterpart w/ Katherine Hepburn, Bringing Up Baby. For what it is, though(a piece of fluff), it's quite a bit of fun to watch. I've yet to hear anyone that slams Madonna's acting skills back it up w/ evidence or even adjectives other than \"awful\", \"bad\", or other such vague descriptive words. If you wanna see bad acting or justify the argument that singers should stick to singing, how about Whitney Houston?? She's had the most undeserved commercial success of any actress in history and couldn't act her way out of a hatbox. The American public obviously cannot discern the difference between a credible performance in a movie and star power. I think Madonna has always been at least credible in her movies. Get real people. Madonna-bashing is so 90's.\n",
      "Model Prediction:  NEGATIVE\n",
      "Actual Label:  POSITIVE\n",
      "Watching this little movie is a sheer delight from start to finish. The story is always entertaining, the tension never loosing up. The whole cast is wonderful. The teaming of Walken and Bracco works to perfection, it is almost like an echo of a classic screwball romance. Bracco is very sexy and really funny as the scam artist who fights for her independence. For some reason they gave Walken a very strange make up and the weirdest haircut I can imagine  it's sort of a parody of the one Burt Lancaster had in Elmer Gantry. For me it added to the pleasure. It's the first movie I saw Miguel Ferrer in, probably one of the most under-appreciated movie actors of his generation. He's very good in a small role as Bracco's pimp. Even the Jamaican thugs are a sight to behold. I can highly recommend this movie.\n",
      "Model Prediction:  POSITIVE\n",
      "Actual Label:  POSITIVE\n",
      "I LOVED this movie. You can't buy it, rent it, or find it... but it's a keeper.<br /><br />Wonderful chemistry between Braccho and Walken... and Ferrar....<br /><br />Terrific non stop action and reactions.... loved it.<br /><br />I've watched my pirated copy maybe 6 times in the last decade... each time showing it to someone who never heard of it.<br /><br />Find this movie and watch it. <br /><br />So many films are on TV over and over again - without any of the wit and style of this little film.<br /><br />I didn't know it was made for TV... my copy is an 8 track I pirated years ago... I hope it lasts.\n",
      "Model Prediction:  POSITIVE\n",
      "Actual Label:  POSITIVE\n",
      "A quite easy to watch tale of 2 thieves, with that love/hate type relationship between them. Chrisopher Walken stars and is very good as the silent rogue with a scam bigger than he's letting on.\n",
      "Model Prediction:  POSITIVE\n",
      "Actual Label:  POSITIVE\n",
      "It's strange how the least known movies sometimes end up amongst the best you've seen. This movie has all the elements of a standard modern day thriller, guns, techno, baddies, cash, etc, and yet it stands out from your average Hollywood also-ran. I would credit this to two very charismatic people. Christopher Walken has a cool confidence and Lorraine Bracco is one of the warmest and sexiest women I've ever seen on screen. Another major reason why this film stands out is coz the setting shifts to Jamaica after the beginning. The Jamaican resort is so beautiful you'll wish you were there sitting by the pool at night, with a Run'n'Coke. . . .I know I did. I'm very glad I saw this movie - it was just too nice to miss!\n",
      "Model Prediction:  POSITIVE\n",
      "Actual Label:  POSITIVE\n",
      "Finding this piece sandwiched between a stale prequel and a rehashed 80s machomovie on a UPN affiliate's midday Saturday program would be misleading. It deserves better and definitely uses its talented leads' best attributes to its maximum advantage. Bracco and Walken team to provide a movie that while perhaps predictable to those familiar with their genre, do the streetwise, 'troubled minds' routine that they are so good at portraying. For a chance to ride a psychological roller coaster a la Fuqua's \"Training Day,\" dive back into the world of early '90s TV movies to find \"Scam\"!\n",
      "Model Prediction:  POSITIVE\n",
      "Actual Label:  POSITIVE\n",
      "I am a huge fan of Harald Zwart, and I just knew that I had to see this movie, even though I can't say I'm a soccer fan. But watching this just filled my heart with joy, and I had a great time in the movies watching it.<br /><br />Bjørn Fast Nagell does a tremendous job directing this movie, and even though you notice the main characters are new at acting, they grow with the movie and makes it what it is. Even though it is supposed to be a soccer movie, there is surprisingly little soccer in it. The whole idea is to show the six guys making up the word N O R W A Y on their trip to the World Cup in soccer playing in Germany this year. <br /><br />If you're only gonna see one Norwegian movie this year, this is the one..\n",
      "Model Prediction:  POSITIVE\n",
      "Actual Label:  POSITIVE\n",
      "Is this a bad movie?<br /><br />Of course, what were you expecting from a movie called \"BEACH BABES FROM BEYOND\"?<br /><br />It is a \"BABES in BIKINI\" movie and has no pretensions of being otherwise. Given, this is not \"A ROOM WITH A VIEW\" or \"SCHINDLER'S LIST.\" If you wanted a film like \"A Room With a View\" then you would not be looking at Beach Babes from Beyond. But if you are looking for a good Babes in Bikini movie with almost no plot, this is the one for you. This flick delivers on what it promises and then some. It is pure 100% adolescent fun.<br /><br />There were lots of BABES in and out of bikinis. The movie was quite funny and great to watch. These were some of the most beautiful women I have ever seen on home video.<br /><br />Every high school kid should watch at least one bad movie like this. This is actually one of the most memorable movies I have ever seen. So unashamedly, I say again...If you are going to watch only one \"Babes in Bikini\" movie, this is it.\n",
      "Model Prediction:  POSITIVE\n",
      "Actual Label:  POSITIVE\n",
      "I`ve seen this movie twice, both times on Cinemax. The first time in it`s unrated version which is soft-core porn at it`s best and the second time in a trimmed down (cut all the sex and most of the nudity out) version which was entertaining in a typical beach movie sort of way. The unrated version has a tremendous sex scene with Nikki Fritz, a dude and a bottle of oil which is out of this world (no pun intended). Unfortunately, in the trimmed version that scene is almost completely chopped out, as are all the other sex scenes. Rated or unrated it is still fun to watch all the siblings of bigger stars (Stallone, Sheen, Travolta, etc;) trying to act. We also get appearances by B-queen Linnea Quigley and Burt Ward (Robin from the old Batman series).\n",
      "Model Prediction:  POSITIVE\n",
      "Actual Label:  POSITIVE\n",
      "This is one of the best movies I have ever seen...<br /><br />It's so full of details and every time you see it you'll find new things... Like then the father is in the shower but still only hears one voice, and when the girls flute, they can't do it at the same time cause then there would be two girls, and there aren't. <br /><br />I have some problem finding out, about in the middle of the movie their \"Uncle\" visit them, but why does his wife freak out?!? Else a fantastic movie.!!! The best Asian movie ever.<br /><br />I hope people will enjoy it. There have been so many movie, where the main character is skit-so (The machinist, Secret Window and so on), but this movie is way better than them!!!\n",
      "Model Prediction:  POSITIVE\n",
      "Actual Label:  POSITIVE\n"
     ]
    },
    {
     "name": "stdout",
     "output_type": "stream",
     "text": [
      "This was one of the few Norwegian movies I actually looked forward too see. It started of as a few commercials with a motley bunch at football matches. Then they made a movie out of it. The leads are not pros (and you can see that) but they still do a very good job and the movie all in all blew me away.<br /><br />Norway is known for making crappy movies (no offense)but I had a good feeling about this one. Even thou I'm not interested in football I wanted 2 see it. the story is a lot better than expected and the laughs just keep piling up. there are loads of cameos from Norwegian celebrities and players. the characters are well portrayed and you feel for them. IF You're EVER GONNA SEE A NORWEGIAN MOVIE. LET IT BE THIS ONE!!!!\n",
      "Model Prediction:  POSITIVE\n",
      "Actual Label:  POSITIVE\n",
      "I must say I'm an avid horror movie fan, and currently I can't get enough of foreign horror. Since US horror really depends too much on gore.<br /><br />This movie is fantastic. This movie reminded me a lot of M. Night's SIXTH SENSE. The way the film was directed was great. The director took his time to set everything up. It took about a good 40 mins just to set the movie up into a horror movie. I thought the movie was just a drama. This movie just builds up and the pay off isn't too much.<br /><br />I've never done this before, but this is the main reason I liked the movie.... I actually screamed out loud because one scene just startled the hell out of me... which is kinda pathetic.... but for a film to do that, it's great.\n",
      "Model Prediction:  POSITIVE\n",
      "Actual Label:  POSITIVE\n",
      "The idea is not original... If you have seen such kind of story before, you would know what the ending would come out after watching for the first twenty minutes... the script, the positioning of the actors and the screening is too obvious... If you haven't seen such story before, it is definitely a good experience, you will enjoy the twist at the end...don't forget to watch it again after you know the \"truth\", you will even more enjoy the plots... Even though I have a right guess at the very beginning, I still couldn't help stick on my seat till the end...<br /><br />Conclusion: A must see!! This one from Korea is better than any recent movies of the genre from Japan...forget Hollywood!<br /><br />Don't miss it!!\n",
      "Model Prediction:  POSITIVE\n",
      "Actual Label:  POSITIVE\n",
      "I hate football!! I hate football fans! I hate cars! but this film was the funniest thing I have seen in quite some time. <br /><br />I was given the great opportunity to see this film at the weekend, and all I have to say is I laughed till I cried, and when is it going to be available in the UK and Denmark. Girls, this is one football film you will need to see, its hilarious!<br /><br />The fact that this film started out as some crazy commercial for a telephone company is just amazing, the guys may not be well known actors, but this is good down to earth real humour, with real people, and I for one applaud them for taking this to the screen.<br /><br />WELL DONE!\n",
      "Model Prediction:  POSITIVE\n",
      "Actual Label:  POSITIVE\n",
      "Hehehe. This was one of the best funny road movies ever! I laughed so I fell out of the chair. With many Norwegian and foreign celebrities playing themselves. Harald Zwart is the producer, known for films like Agent Cody banks and of course One Night at McCool's.<br /><br />It is about Norwegian crazy fans, going to the world cup in Soccer in Germany 2006. And all sort of crazy fun that comes with it. It was hilarious. I couldn't stop laughing. I haven't had so much fun in ages. Rumors say it will come a number two, but I do not know. It will be hard beating this one. <br /><br />recommended to everyone! It is a must see film. I was suppose to see it at the cinema, but I had work at the times it where shown. And been trying to rent it for a month, but all the time rented out. Got it today on DVD. Well worth it.\n",
      "Model Prediction:  POSITIVE\n",
      "Actual Label:  POSITIVE\n",
      "\"A Tale of Two Sisters\" is a brilliant South Korean psychological horror that left me speechless.The film offers some delicious moments of ghastly horror and is extremely creepy.The small cast of actors is truly excellent,with lead Im Soo-jung being especially memorable in the lead role.The direction by Kim Ji-woon is well-handled and the cinematography is absolutely gorgeous.The plot is slightly confusing,but some scenes are wonderfully eerie.The action is rather slow,but I was not bored in the slightest;I was extremely curious and intrigued.The house,where the film takes place looks incredibly menacing and isolated.\"A Tale of Two Sisters\" is along with \"Ringu\" and \"Kairo\" one of the most original Asian horror films I have ever seen.Watch this masterpiece as soon as possible.My rating:10 out of 10.\n",
      "Model Prediction:  POSITIVE\n",
      "Actual Label:  POSITIVE\n",
      "This movie was an excellent acted, excellent directed and overall had an excellent story. Ive had real life experiance with a boy like 'Radio'. At the football program in my town, weve had a mentally challenged boy every year practice, travel, and have fun with the football team. This movie is really true and i can identify with it 100%. A boy like 'Radio' just needs to feel like they belong to something; they need to feel like their life is worth living. Thats how 'Radio' feels and thats why that type of program is set up at my high school. This is a very touching movie that im glad has been brought to the big screen. My dad and I loved it and i will always remember this for being a movie that tells a riveting story of the goodness and kindness of man!\n",
      "Model Prediction:  POSITIVE\n",
      "Actual Label:  POSITIVE\n",
      "Call it manipulative drivel if you will, but I fell for it. Sure, there could have been more character development. Yeah, there could have been better cinematography and less of a constant \"movie of the week\" score, but Ed Harris was impeccable, Cuba Gooding adorable and touching, and let's face it people, in real life, how many of us really get to know the motivation of others. Not many. We did get a little glimpse into the coach's motivation (a very provocative dialog in my opinion, not to be soon forgotten) so in my opinion, this was a lovely tribute to one human being who broke out of his \"comfort zone\" to reach out to another human being, and in the mean time, touched the lives hundreds more. A lesson we all need to me reminded of. Why is it that the right thing to do is so often the hardest thing to do? I recommend this beautiful little movie to anyone with a heart. You won't be disappointed. And bring your Kleenex. 8/10\n",
      "Model Prediction:  POSITIVE\n",
      "Actual Label:  POSITIVE\n",
      "Radio will have you laughing, crying, feeling. This story based on a true story is the perfect movie for a couple to view. There's enough for both. cuba Gooding Jr.portrays the title character to perfection. His performance is worthy of an academy award nomination.The compassion of the movie is obvious. The movie evokes many emotions. I sincerely enjoyed this film.\n",
      "Model Prediction:  POSITIVE\n",
      "Actual Label:  POSITIVE\n",
      "Excellent performances and a solid, but not overplayed story, helped this movie exceed my expectations. This movie was far better than I was expecting after some of the reviews I had read - but frankly those reviewers just got it wrong. Very inspiring and uplifting. Highly recommended!\n",
      "Model Prediction:  POSITIVE\n",
      "Actual Label:  POSITIVE\n",
      "I thought this was a really well written film. I've heard of Radio the person before this movie was even created and I can't begin to describe how good Cuba Gooding Jr was in it. It will make the women cry, everyone laugh, and most everyone will leave smiling.\n",
      "Model Prediction:  POSITIVE\n",
      "Actual Label:  POSITIVE\n",
      "Cuba Gooding Jr. is back on top! Jesus, he did a great job in this film! I LOVED this movie. Its one of those feel good movies that makes you want to run out and volunteer at a mission or something. Anyway, I would recommend seeing this movie in a heartbeat! Well worth the price of admission. And as for Cuba Gooding Jr., just give him his next Oscar right now!!!!!!!!!!!!!!\n",
      "Model Prediction:  POSITIVE\n",
      "Actual Label:  POSITIVE\n",
      "I've been strangely attracted to this film since I saw it on Showtime sometime in the early 80's. I say strangely because it is rather a ludicrous bit of soft-core fluff, a genre I'm not particularly interested in. The dialogue is pompously and nonsensically philosophical (making sense, no doubt, only to it's Franco-Italian producers)and the plot completely extraneous. What it does achieve is a wonderfully hypnotic and thoroughly pleasant mood. The scenery (the beautiful Philippines), soft-focus nudity and wonderful score all contribute to a strange and extremely watchable exercise in a sort of film making seldom seen today. It is truly one of my great \"guilty pleasures\". I was fortunate enough to find it on an old laserdisc and have watched it more times than I think is healthy. A worthwhile moodpiece.\n",
      "Model Prediction:  POSITIVE\n",
      "Actual Label:  POSITIVE\n",
      "I just got home from seeing \"Radio.\" I've not seen such an inspiring story in a long time. My kids are ages 8 and 5 and I would like to take them so that they may \"feel\" the message as I did - you should seek to find the best in people and love them for who they are, not judge them for their differences. Cuba Gooding, Jr. and Ed Harris both deserve Academy Awards for this movie. I don't know why we can't have more movies like this, rather than the junk that is served up at theatres on a daily basis.\n",
      "Model Prediction:  POSITIVE\n",
      "Actual Label:  POSITIVE\n"
     ]
    },
    {
     "name": "stdout",
     "output_type": "stream",
     "text": [
      "This is a very moving movie about life itself. The challenges a handicapped person must face in a land that expects perfection is brought to the forefront for all to see and hopefully understand. It should teach the bigots of society that we are all humans, and while some of us are gifted with a mind, heart and sound body, there are decent human beings that exist in the world that are not as lucky, or maybe, we're the unlucky ones. We don't always see the beauty in the world because we're wrapped up in our 'blind' ambitions, and see it only in one light \"what can this world do for me!!!\". Maybe we all wish we were like Radio, a loving happy individual...who loves everyone.\n",
      "Model Prediction:  POSITIVE\n",
      "Actual Label:  POSITIVE\n",
      "As one who frequently goes to the movies, I have to say that this has been one of the most impressive movies I have seen this year. Ed Harris and Cuba Gooding Jr. gave outstanding performances allowing viewers to get lost in the various emotions and really feel for the characters. It is nice to occasionally see a movie that does not depend entirely upon special effects but allows the characters of the story to touch the human psyche on many levels. I wish Hollywood would produce more movies of this calibre.\n",
      "Model Prediction:  POSITIVE\n",
      "Actual Label:  POSITIVE\n",
      "Cuba Gooding,Jr. will win the Oscar for BEST ACTOR in 2003.And Ed Harris will win for BEST SUPPORTING ACTOR. What a beautiful and poignant film it is but be sure to bring along a box of tissues because if this film doesn't get to you, then you have ice water in your veins.<br /><br />It was 1976. The setting was in South Carolina and the Civil Rights Act was about ten years old. We have a white high school football coach and teacher, Ed Harris. Then there is a black retarded frightened but pleasant fellow, Cuba Gooding, whose greatest possessions, including a radio, are piled into a shopping cart which is also used as his bicycle.<br /><br />Ed Harris takes a keen interest in the fellow for a reason explained much later on in the film. He gives Cuba the nickname \"Radio\" and what follows is an absoutely riveting, engrossing, poignant exploration of the human soul.<br /><br />The movie is nothing short of a masterpiece.\n",
      "Model Prediction:  POSITIVE\n",
      "Actual Label:  POSITIVE\n",
      "Cuba Gooding Jr. and Ed Harris are touching. This movie is really surprising. It was enjoyable from start to finish.<br /><br />The story is about mentally challenged man who helps out with a football team.<br /><br />\n",
      "Model Prediction:  POSITIVE\n",
      "Actual Label:  POSITIVE\n",
      "Radio was a very good movie, and honestly, i never cry in movies. But it had me pretty close to tears. It really got to me when Radio's mom died and he just wouldn't get out of his room. I felt really sad about how, if you were mentally retarded, you wouldn't really be able to understand death. I really liked the movie, and It's a must see.\n",
      "Model Prediction:  POSITIVE\n",
      "Actual Label:  POSITIVE\n",
      "I'm normally not a Drama/Feel good movie kind of guy, but once I saw the trailer for \"Radio\", I couldn't resist. Not only is this a great film, but it also has grreat acting. Cuba Gooding Jr. did an excellent job portraying James Robert Kennedy, a.k.a. \"RAdio.\" Ed Harris also did a fantastic job as Coach Jones. I was pleasantly surprised to see some comedy in it as well. So for a great story, great acting, and a little comedy, I give \"Radio\" a 10 out of 10!\n",
      "Model Prediction:  POSITIVE\n",
      "Actual Label:  POSITIVE\n",
      "Ed Harris and Cuba Gooding Jr. where cast perfectly in this film. It's a heart-warming story that reaffirms the belief that we can all make a difference if we just care. I think there was a lot of realism with the characters. The screenwriter didn't incorporate racism in the film in a way that most films do, which I thought created a more realistic story line.<br /><br />Writers tend to inject incidents of racism in an attempt to create realism but usually go overboard. <br /><br />There are so many towns like this one where people of different races live harmoniously. Ed Harris should have been nominated for an Academy Award because he was great as a leader and coach, realistic as a father and showed a warm caring side when helping Radio.\n",
      "Model Prediction:  POSITIVE\n",
      "Actual Label:  POSITIVE\n",
      "Not much to it but a validation of small town values and the embracing of a mentally challenged young man into its heart.<br /><br />I read some of the reviews and was surprised at some of the hostility it engendered. I felt Cuba Gooding handled the part with dignity and respect unlike Sean Penn's drooling fool portrayal in \"I am Sam.\"<br /><br />The fact that this is based on a true story makes it all the more heartwarming. Sports are taken seriously in small town high school America (and elsewhere, I suspect) and I felt the portrayal of these competitive students opening their hearts to one less fortunate rang true, at least for me.<br /><br />The coach was never forced to choose between his daughter and Radio but rather came gently to the decision himself under Radio's loving and open ways. Very well done to all. 7 out of 10.<br /><br />Debra Winger, we need more of you in pictures!\n",
      "Model Prediction:  POSITIVE\n",
      "Actual Label:  POSITIVE\n",
      "This is one of the best films I have ever seen! How anyone can knock this movie just befuddles my imagination! First of all, Gooding's and Harris's performances were simply spectacular, especially Gooding. That is the only way I can describe the acting: spectacular! You have to imagine how difficult it would be to play a character like that and pull it off; then you see Gooding, and his performance was magical. As for the plot, since it was based on a true person, it goes where the lives of the characters go. For all the action buffs, it might be a little slow, but then it's not an action film. I definitely give this movie a 10. It deserves nothing less!\n",
      "Model Prediction:  POSITIVE\n",
      "Actual Label:  POSITIVE\n",
      "EXCUSE ME!!! HellOOOOOOOOOO!!!!!!!!!!! CUBA GOODING,Jr. Should Have Won An Oscar For His Portrayal In This Film!!! He WAS the film! While the film may be lacking in some areas, Cuba was awesome... and for me, this is the best role that he has ever played! The scene in the movie where he finds out that his mother has died made me break down and cry IN THE THEATER!! I guess I could really relate to this film because I saw the same treatment of people just like that at my own school growing up... what a tragedy! Getting to see the \"real\" Radio and coach at the end of the movie was really special too! If you can watch this movie and not be moved to tears, you need a heart check! If you liked \"Simon Birch\" and \"The Mighty\", you'll love \"Radio\" too! I wish they made more movies like this...Radio is the Real Deal!\n",
      "Model Prediction:  POSITIVE\n",
      "Actual Label:  POSITIVE\n",
      "The fact that the movie is based on a true story contributes to a better and, of course, more realistic experience and keeps the viewer focused on the basic theme of the movie. The story is filled with unexpected twists which keeps the viewer at all times from figuring the ending out. In one moment you think that something happens to Coach Jones or Radio. Well it does, but certainly not what you'd expect.<br /><br />The film becomes at no point boring or too sentimental and the acting performances by Ed Harris & Cuba Gooding Jr. are some of their best in my opinion. The ending puts a long lasting smile on your face and makes you wonder if what you are doing is right. Well I guess that was what Michael Tollin & Mike Rich were trying to do. First-class movie.<br /><br />Esbjørn Nordby Birch. Denmark.\n",
      "Model Prediction:  POSITIVE\n",
      "Actual Label:  POSITIVE\n",
      "Gorgeous Annie Belle in her prime stars in this adventure/sex movie. She wears her hair in a buzz cut that is bleached platinum. She and her boyfriend are visiting some tropical Asian paradise. They have decided to keep an \"open\" sexual relationship, which is played out on their journey to find a secret society/tribe where the people live one year and then are reborn in some kind of ceremony. The scenery is gorgeous, deep vast green gorges and jungles are explored. The imagery is very similar to that of the movie \"Black Emanuelle\". It is rich and colorful. Recommended!\n",
      "Model Prediction:  POSITIVE\n",
      "Actual Label:  POSITIVE\n"
     ]
    },
    {
     "name": "stdout",
     "output_type": "stream",
     "text": [
      "This movie reminded me of the live dramas of the 1950s- not like the recent \"Failsafe\", which seemed more of a stunt than anything else, but a TRUE moral drama that is both engaging and thought-provoking. Anne Heche is more than credible as the army officer having an affair with her superior, played by Sam Shepard, and Eric Stoltz is wonderful as her lawyer defending her against the military establishment. I found myself waiting for THEIR affair to begin, if only because they look so good together. This movie is apparently based on a true story, and it's a relief to be asked to think about real issues for a change. <br /><br />Directed by Christopher Menaul, who also did The Passion of Ayn Rand (with Stolz) and the Prime Suspect series, this is a movie with panache and style and is absolutely worth seeing.\n",
      "Model Prediction:  POSITIVE\n",
      "Actual Label:  POSITIVE\n",
      "Excellent cast, story line, performances. Totally believable. I realize the close knit group that exemplifies the Marine Corps. But this movie brought fear to my heart. The marines let principles be damned. It seems that this film was based on real life incidents. It shows how difficult it is to go up against the establishment. Anne Heche was utterly convincing. Sam Shepard's portrayal of a gung ho Marine was sobering. And Eric Stoltz as her attorney was so deft balancing his loyalty to the Corp but also his loyalty to his client, while high above on his tightrope. He knew what his true course of action had to be. But he was pulled apart by his immersion in the Marine tradition, loyalty to the Corps above all else. I sat riveted to the TV screen. All in all I give this one a resounding 9 out of 10.\n",
      "Model Prediction:  POSITIVE\n",
      "Actual Label:  POSITIVE\n",
      "Unfortunately, due to a sluggish start, I can't say that this is one of Hitch's best films. It very excellent none the less. The film stars Jimmy Stewart and Doris Day as parents who get caught up in a political assassination plot and must try to get their kidnapped son back. They both give excellent performances, not surprising of course. Really, however, I was most impressed with Hitchcocks amazing use of music. The climax at the Opera house was fantastic, and using a live orchestra to create music and suspense at the same time was pure genius. Absolutely fantastic suspense came out of that scene. Also, the use of Doris Day singing \"Que Sera, Sera\" was excellent. Especially when it is transposed on scenes at the end of the film. So, this film to me ends up being Hitchcocks best use of music that I have seen to date. Unfortunately it had a slow start, or I could have recommend this film a little more highly. Even then, it is still well worth a look. 8 out of 10.\n",
      "Model Prediction:  POSITIVE\n",
      "Actual Label:  POSITIVE\n",
      "This is another enjoyable and entertaining Hitchcock film. James Stewart and Doris Day are incredible in this movie. Bernard Herrmann appears as himself near the climax.<br /><br />The scenery and locations are great, except the one scene early on where the background was obviously fake, which doesn't make sense to me since scenes before and after were in the same setting and they were real location shots. I've heard that Hitchcock did this on purpose sometimes.<br /><br />The reviews for this movie seem to be mixed. I think this is a better than average Hitchcock movie. Very entertaining and it has a great light comical scene at the end.<br /><br />I rated this movie 8 out of 10.<br /><br />\n",
      "Model Prediction:  POSITIVE\n",
      "Actual Label:  POSITIVE\n",
      "Some people say the pace of this film is a little slow, but how is this different from any other Hitchcock movie? They all move very deliberately and, as a point, have spurts of suspense and brilliant montages injected through it. This movie gives us just the right amount of comic relief which make the suspense scenes seem all the more suspenseful. The Albert Hall scene is one of the best examples of Pure Cinema that exists in Hitchcock's collection (the best probably being almost all of \"Rear Window\"). Pure Cinema for Hitchcock meant a series of usually small pieces of film fit together without dialogue, in order to tell the story visually. This is, of course the basic definition of the Albert Hall sequence, as well as the shorter staircase sequence at the end of the picture. <br /><br />Not many slip-ups by Hitchcock here, and the acting is superb especially by Doris Day in a rather surprising serious role.\n",
      "Model Prediction:  POSITIVE\n",
      "Actual Label:  POSITIVE\n",
      "Lovely little thriller from Hitchcock, with lots of nice shenanigans surrounding a murdered spy, a kidnapped child, a nasty church, a foreign plot and some random taxidermists. Jimmy Stewart is as ever a great hero for Hitchcock, the story rips along to its cool climax at an embassy function, but it lacks the brooding menace of Hitchcock's black and white, low-budget original. Nevertheless yet another wonderful film from the great master's stable.\n",
      "Model Prediction:  POSITIVE\n",
      "Actual Label:  POSITIVE\n",
      "One of master director Alfred Hitchcock's finer films this is the story of an American and his family (James Stewart, Doris Day, and their young son) who are vacationing in north Africa. Stewart is a doctor and Day is a world famous singer. They meet a Frenchman who speaks the native language and helps them out of an incident on a local bus. Later one, the Frenchman whispers something into Stewart's ear after he is attacked and dying. The rest of the film is a puzzle as Stewart tries to save them and solve the mystery. The movie is steeped in mystery and strangeness from the exotic locale to the odd occurrences. You never really know what's going on in this film, why people are appearing, until the end and even then you're not sure. The final scene takes place in Albert Hall and is one of the most famous in film which lasts for 12 minutes with no dialog. Hitchcock had originally made this film in 1934.\n",
      "Model Prediction:  POSITIVE\n",
      "Actual Label:  POSITIVE\n",
      "This Film is the One which you fall in love with. Alfred Hitchcock shall always remain over the top of any directors of his time. The most influential aspects about his films are sheer Simplicity & Gripping Drama. The another best thing about Hitchcock's films is a Definite & Gripping End.<br /><br />Any thing said about \"The Man who knew too much\" is less. The Cinematography, Acting, Dialogs & Camera Works are magnificent in this Movie. The Song \"Que Sera Sera\" at the end shall remain in our memories for life time. The film is so enjoyable from start to end that we never know when it ends. Rarely would Hitchcock include humor in his films, this film has comic scenes which fits in to the movie. <br /><br />This film is absolutely brilliant & as good as Vertigo.\n",
      "Model Prediction:  POSITIVE\n",
      "Actual Label:  POSITIVE\n",
      "Am I the only person who believes this American version is far better than the 1934 English film? The English version has no suspense, looks antique and very low budget, and has unexceptional acting (except for Peter Lorre). The 1956 version, besides having top production values, shows James Stewart as the perfect 'innocent' American abroad, and gives Doris Day her best role ever. Of particular note is the music - the music of the American film is almost classic; compare the \"Albert Hall' sequences of both, and you will agree that the Bernard Herrmann music is far more exciting than the original version (even though it's basically the same music!). The only flaw in the 1956 film is the ridiculous encounter in the taxidermy shop. I would appreciate any argument that can prove to me that the English version is better.\n",
      "Model Prediction:  POSITIVE\n",
      "Actual Label:  POSITIVE\n",
      "Alfred Hitchcock's remake of \"The Man Who Who Knew Too Much,\" is usually not considered to be as good as the original, but for me it is one of the best films ever. I prefer it over \"Vertigo\" and \"Rear Window.\"<br /><br />Like \"North By Northwest,\" it is the story of an average man who is unwillingly thrown into the world of international intrigue. James Stewart plays the father of a son who is kidnapped because he is mistaken for an international spy. He will do anything to make sure he gets his son back and protect his family.<br /><br />While the original was good for it's time, it is hard to watch by today's standards. The remake has excellent production quality, an endearing Doris Day, and a really creepy villain. <br /><br />Don't bother to rent this one because you will want to see it over and over.\n",
      "Model Prediction:  POSITIVE\n",
      "Actual Label:  POSITIVE\n"
     ]
    },
    {
     "name": "stdout",
     "output_type": "stream",
     "text": [
      "This isn't among my favorite Hitchcock films, though I must admit it's still pretty good. Among the things I really liked were the presence of Jimmy Stewart (he always improves even the most mediocre material) and the incredibly scary looking assassin (who looks like a skeleton with just a thin layer of skin stretched over him). Although it cost the studio a lot of money, I didn't particularly care for Doris Day in the film--she seemed to weep a lot and belts out \"Que Sera\" like a fullback. Yes, I know that she was supposed to sing in that manner, but this forever made me hate this song. Sorry.<br /><br />The other complaint, though minor, I had about the movie was that it was a little \"too polished\" and \"Hollywood-esque\". The original version (also done by Hitchcock) just seemed a lot grittier and seedier--and this added to the scary ambiance.\n",
      "Model Prediction:  NEGATIVE\n",
      "Actual Label:  POSITIVE\n",
      "If there's one good suspenseful film, this is one of them. James Stewart puts on a dazzling performance as American Dr. Ben McKenna who, with his wife and son, are in Africa on tour. They stumble on a murder scene, and Dr. McKenna's son is kidnapped hours later.<br /><br />Before you can say, \"Fasten your seat belts,\" Dr. McKenna finds out too much about a assassination attempt and tries to stop it. However, other people know he can be dangerous, (dangerous to them, that is) and try to dispose of him.<br /><br />Eventually, Hank, the son, is found alive and well.<br /><br />If you like suspenseful movies, this is the one to watch.<br /><br />My Score: 8/10.\n",
      "Model Prediction:  POSITIVE\n",
      "Actual Label:  POSITIVE\n",
      "James Stewart plays Dr. Ben McKenna, who, with his wife and son, are tourists in an Arabian city. They get caught up in the middle of a murder scene. The victim whispers something in Dr. McKenna's ear, and he is told to do something.<br /><br />Later, his son is kidnapped. The kidnappers turn out to be a man and woman he knew, but the woman is a bit softer than the man.<br /><br />The song, \"Que, Sera, Sera\" (Whatever we'll be, we'll be,\" is one of the best songs ever sung in any movie.<br /><br />Doris Day play's Stewart's wife, and she sings the song mentioned above. Her performance is Oscar worthy. I'm surprised she wasn't even nominated.<br /><br />My Score: 8/10.\n",
      "Model Prediction:  POSITIVE\n",
      "Actual Label:  POSITIVE\n",
      "I've been strangely attracted to this film since I saw it on Showtime sometime in the early 80's. I say strangely because it is rather a ludicrous bit of soft-core fluff, a genre I'm not particularly interested in. The dialogue is pompously and nonsensically philosophical (making sense, no doubt, only to it's Franco-Italian producers)and the plot completely extraneous. What it does achieve is a wonderfully hypnotic and thoroughly pleasant mood. The scenery (the beautiful Philippines), soft-focus nudity and wonderful score all contribute to a strange and extremely watchable exercise in a sort of film making seldom seen today. It is truly one of my great \"guilty pleasures\". I was fortunate enough to find it on an old laserdisc and have watched it more times than I think is healthy. A worthwhile moodpiece.\n",
      "Model Prediction:  POSITIVE\n",
      "Actual Label:  POSITIVE\n",
      "\"The Man Who Knew Too Much\" falls into that Hitchcock middle ground that characterized many of his films during the 1950s: not a masterpiece of suspense by any means, but an awful lot of fun nonetheless.<br /><br />James Stewart and Doris Day play a vacationing couple who get caught up in a plot heavy on foreign intrigue. The famous climactic scene takes place at a classical music concert, where someone is going to be assassinated during a particular cymbal clash in the score. The impish Hitchcock of course lets us know what that point is, so that the race to stop the assassin becomes a nail biting race against the cymbalist.<br /><br />So much of this movie reminded me of the 1978 Chevy Chase/Goldie Hawn comedy \"Foul Play\" that I have to believe that film was inspired by this. Neither film is a big deal, but both are easy to enjoy.<br /><br />Grade: B+\n",
      "Model Prediction:  POSITIVE\n",
      "Actual Label:  POSITIVE\n",
      "Dr. Ben McKenna (James Stewart) and Jo McKenna (Doris Day) travel to Morocco for a holiday where they meet a mysterious man named Louis Bernard (Daniel Gélin) on a bus.The next day this man is murdered, but before he dies he tells Ben a secret; an assassination will take place in London.The crooks kidnap the couple's son Hank (Christopher Olsen) making sure Ben won't reveal their plan to anybody.Alfred Hitchcock's The Man Who Knew Too Much (1956) is a very intense thriller.The acting is superb as it always is in Hitchcok's films.James Stewart is marvelous.Doris Day is a delightful person and actress and she gets to show her singing talents as well.The song Que Sera, Sera has an important part in the movie.This movie is a movie of many classic scenes.In the final scenes at the Albert Hall, done without dialogue, you can barely blink your eyes.This movie is fifty years old now.Time hasn't decreased its power in any way.\n",
      "Model Prediction:  POSITIVE\n",
      "Actual Label:  POSITIVE\n",
      "I put this second version of \"The Man Who Knew Too Much\" to my Top 10 Hitchcock movies. Together with \"Frenzy\", it's probably the most argued film among the fans of Hitchcock. I consider it far better than, say, \"Rebecca\", which has gained unreasonably much appreciation.<br /><br />The film contains many ingenious scenes (most of them have been mentioned in other reviews), but that's something to be expected from Hitchcock. It takes almost half an hour until things really start to happen, but that time is used for preparing the following happenings, which are full of intriguing suspense.<br /><br />If you can ignore the clumsy rear projections, the only weakness of this film is the main villain, played by Bernard Miles, who is a rather flat and undeveloped character. Luckily, there is a creepy assassin in the form of Reggie Nalder. And Hank, the little boy, isn't as irritating as most kids in old movies.\n",
      "Model Prediction:  POSITIVE\n",
      "Actual Label:  POSITIVE\n",
      "Anyone who has ever gone on an audition can certainly relate to this one. Great story of an aspiring actor and the pressures he must deal with both personally and professionally in order to make it to the big time. Lou Myers, as Half-Step Wilson, provides many hilarious moments.\n",
      "Model Prediction:  POSITIVE\n",
      "Actual Label:  POSITIVE\n",
      "Many funny scenes about the people that you don't normally pay attention to in a movie and what they have to do to get work and what happens once they do. Lou Myers was very funny as Half-Step Wilson. Any guy that has a tight group of friends can relate to many of the non-movie related scenes scattered throughout the movie.\n",
      "Model Prediction:  POSITIVE\n",
      "Actual Label:  POSITIVE\n",
      "Fun story of a regular guy with big dreams, this low budget film really hits home showing what it is like trying to become an acting success. Great performances by Lou Myers and Brian's neighbor, Alex. I giggled alot and even cried a little.<br /><br />\n",
      "Model Prediction:  POSITIVE\n",
      "Actual Label:  POSITIVE\n",
      "I thought this was a really cute movie - inspiring (makes me want to try acting)- I LOVE Kelly Ripa and it's nice that I can watch this in addition to All My Children - I've already watched it 3 times! Of course I also loved seeing Joe Barbara - especially since Another World went off the air!\n",
      "Model Prediction:  POSITIVE\n",
      "Actual Label:  POSITIVE\n",
      "This movie was so heart warming. A true testament to an actors real life everyday ups and downs.It was truly a wonderful experience to share the passion of the actor on film and respect for what it must have taken off screen. This film is a reminder to everyone to go for there dreams!Never give up!Hurray for The Stand -in!!!\n",
      "Model Prediction:  POSITIVE\n",
      "Actual Label:  POSITIVE\n",
      "A SUPERMAN Cartoon<br /><br />A huge shipment of gold is being sent across country by train. Using ultra-modern techniques, a sophisticated gang of hooded thieves try to waylay the gold. With intrepid reporter Lois Lane as the only passenger on board, it's Superman to the rescue. But now that it's become a runaway train, can even he stop the BILLION DOLLAR LIMITED?<br /><br />This was another in the series of excellent cartoons Max Fleischer produced for Paramount Studio. They feature great animation and taut, fast-moving plots. Meant to be shown in movie theaters, they are miles ahead of their Saturday Morning counterparts.\n",
      "Model Prediction:  POSITIVE\n",
      "Actual Label:  POSITIVE\n"
     ]
    },
    {
     "name": "stdout",
     "output_type": "stream",
     "text": [
      "Millions in gold is traveling by train to the US treasury. Traveling along is Lois Lane to report on it. Along the way the train is attacked by masked thieves. They detach the car with the armed guards in it and attack the remaining ones. This leads to a vicious fight between the remaining guards and the thieves. The thieves overpower them but then Lois Lane jumps in. She beats the thieves off the train (at one point using a gun) but the train starts to careen out of control. Lois can't stop it and the thieves will stop at nothing to get the gold. Good thing Superman is on the way!<br /><br />Fast, exciting, non-stop action. Probably one of the best of all the cartoons. Just great.\n",
      "Model Prediction:  POSITIVE\n",
      "Actual Label:  POSITIVE\n"
     ]
    }
   ],
   "source": [
    "index = 0\n",
    "for review in pos_reviews_test[:200]:\n",
    "    if (len(review) > 1000):\n",
    "        continue\n",
    "    total_count += 1\n",
    "    result = sentiment_classifier(review)[0]\n",
    "    pred = result['label']\n",
    "    conf_score = result['score']\n",
    "    print(review)\n",
    "    print(\"Model Prediction: \", pred)\n",
    "    print(\"Confidence Score: \", conf_score)\n",
    "    print(\"Actual Label: \", \"POSITIVE\")\n",
    "    if (pred == 'POSITIVE'):\n",
    "        precision_score += 1\n",
    "    index += 1"
   ]
  },
  {
   "cell_type": "code",
   "execution_count": 83,
   "metadata": {},
   "outputs": [
    {
     "data": {
      "text/plain": [
       "0.9489795918367347"
      ]
     },
     "execution_count": 83,
     "metadata": {},
     "output_type": "execute_result"
    }
   ],
   "source": [
    "precision_score / total_count"
   ]
  },
  {
   "cell_type": "code",
   "execution_count": 84,
   "metadata": {},
   "outputs": [
    {
     "data": {
      "text/plain": [
       "93"
      ]
     },
     "execution_count": 84,
     "metadata": {},
     "output_type": "execute_result"
    }
   ],
   "source": [
    "precision_score"
   ]
  },
  {
   "cell_type": "code",
   "execution_count": 85,
   "metadata": {},
   "outputs": [
    {
     "data": {
      "text/plain": [
       "98"
      ]
     },
     "execution_count": 85,
     "metadata": {},
     "output_type": "execute_result"
    }
   ],
   "source": [
    "total_count"
   ]
  },
  {
   "cell_type": "code",
   "execution_count": 102,
   "metadata": {},
   "outputs": [],
   "source": [
    "precision_score = 0\n",
    "total_count = 0"
   ]
  },
  {
   "cell_type": "code",
   "execution_count": 103,
   "metadata": {},
   "outputs": [
    {
     "name": "stdout",
     "output_type": "stream",
     "text": [
      "Once again Mr. Costner has dragged out a movie for far longer than necessary. Aside from the terrific sea rescue sequences, of which there are very few I just did not care about any of the characters. Most of us have ghosts in the closet, and Costner's character are realized early on, and then forgotten until much later, by which time I did not care. The character we should really care about is a very cocky, overconfident Ashton Kutcher. The problem is he comes off as kid who thinks he's better than anyone else around him and shows no signs of a cluttered closet. His only obstacle appears to be winning over Costner. Finally when we are well past the half way point of this stinker, Costner tells us all about Kutcher's ghosts. We are told why Kutcher is driven to be the best with no prior inkling or foreshadowing. No magic here, it was all I could do to keep from turning it off an hour in.\n",
      "Model Prediction:  NEGATIVE\n",
      "Confidence Score:  0.9989190101623535\n",
      "Actual Label:  NEGATIVE\n",
      "A funny thing happened to me while watching \"Mosquito\": on the one hand, the hero is a deaf-mute and the director is totally unable to make us understand why he does what he does (mutilating mannequins...er, excuse me, corpses) through his images. On the other hand, the English version at least is very badly dubbed. So I found myself wishing there had been both more AND less dialogue at the same time! This film is stupid (funny how this guy has access to every graveyard and mortuary in his town) and lurid (where would we be in a 70s exploitationer without our gratuitous lesbian scene?). Not to mention the \"romantic\" aspect (oh, how sweet!)...Miss it. (*)\n",
      "Model Prediction:  NEGATIVE\n",
      "Confidence Score:  0.9996941089630127\n",
      "Actual Label:  NEGATIVE\n",
      "This German horror film has to be one of the weirdest I have seen.<br /><br />I was not aware of any connection between child abuse and vampirism, but this is supposed based upon a true character.<br /><br />Our hero is deaf and mute as a result of repeated beatings at the hands of his father. he also has a doll fetish, but I cannot figure out where that came from. His co-workers find out and tease him terribly.<br /><br />During the day a mild-manner accountant, and at night he breaks into cemeteries and funeral homes and drinks the blood of dead girls. They are all attractive, of course, else we wouldn't care about the fact that he usually tears their clothing down to the waist. He graduates eventually to actually killing, and that is what gets him caught.<br /><br />Like I said, a very strange movie that is dark and very slow as Werner Pochath never talks and just spends his time drinking blood.\n",
      "Model Prediction:  NEGATIVE\n",
      "Confidence Score:  0.9908682107925415\n",
      "Actual Label:  NEGATIVE\n",
      "Being a long-time fan of Japanese film, I expected more than this. I can't really be bothered to write to much, as this movie is just so poor. The story might be the cutest romantic little something ever, pity I couldn't stand the awful acting, the mess they called pacing, and the standard \"quirky\" Japanese story. If you've noticed how many Japanese movies use characters, plots and twists that seem too \"different\", forcedly so, then steer clear of this movie. Seriously, a 12-year old could have told you how this movie was going to move along, and that's not a good thing in my book.<br /><br />Fans of \"Beat\" Takeshi: his part in this movie is not really more than a cameo, and unless you're a rabid fan, you don't need to suffer through this waste of film.<br /><br />2/10\n",
      "Model Prediction:  NEGATIVE\n",
      "Confidence Score:  0.9995569586753845\n",
      "Actual Label:  NEGATIVE\n",
      "\"Tokyo Eyes\" tells of a 17 year old Japanese girl who falls in like with a man being hunted by her big bro who is a cop. This lame flick is about 50% filler and 50% talk, talk, and more talk. You'll get to see the less than stellar cast of three as they talk on the bus, talk and play video games, talk and get a haircut, talk and walk and walk and talk, talk on cell phones, hang out and talk, etc. as you read subtitles waiting for something to happen. The thin wisp of a story is not sufficient to support a film with low end production value, a meager cast, and no action, no romance, no sex or nudity, no heavy drama...just incessant yadayadayada'ing. (C-)\n",
      "Model Prediction:  NEGATIVE\n",
      "Confidence Score:  0.9995937943458557\n",
      "Actual Label:  NEGATIVE\n",
      "Wealthy horse ranchers in Buenos Aires have a long-standing no-trading policy with the Crawfords of Manhattan, but what happens when the mustachioed Latin son falls for a certain Crawford with bright eyes, blonde hair, and some perky moves on the dance floor? 20th Century-Fox musical has a glossy veneer yet seems a bit tatty around the edges. It is very heavy on the frenetic, gymnastic-like dancing, exceedingly thin on story. Betty Grable (an eleventh hour replacement for Alice Faye) gives it a boost, even though she's paired with leaden Don Ameche (in tan make-up and slick hair). Also good: Charlotte Greenwood as Betty's pithy aunt, a limousine driver who's constantly asleep on the job, and Carmen Miranda playing herself (who else?). The stock shots of Argentina far outclass the action filmed on the Fox backlot, and some of the supporting performances are quite awful. By the time of the big horserace finale, most viewers will have had enough. *1/2 from ****\n",
      "Model Prediction:  NEGATIVE\n",
      "Confidence Score:  0.8696839809417725\n",
      "Actual Label:  NEGATIVE\n",
      "Cage plays a drunk and gets high critically praise. Elizabeth Shue Actually has to do a love seen with the most unattractive and overrated piece of dung flesh in Hollywood. I literally vomited while watching this film. Of course I had the flu, but that does not mean this film did not contribute to the vomit in the kamode. <br /><br />Why can't Nick Cage play something he can really pull off like a bad actor. Nick Cage who be brilliant in a role as a bad actor. Heck nobody could do it better.<br /><br />The search begins for Nick's contract with Lucifer or was it Lou Cipher from \"Night Train To Terror\".\n",
      "Model Prediction:  NEGATIVE\n",
      "Confidence Score:  0.8098393678665161\n",
      "Actual Label:  NEGATIVE\n",
      "A big disappointment for what was touted as an incredible film. Incredibly bad. Very pretentious. It would be nice if just once someone would create a high profile role for a young woman that was not a prostitute. <br /><br />We don't really learn anything about this character, except that he seems to be a hopeless alcoholic. We don't know why. Nicholas Cage turns in an excellent performance as usual, but I feel that this role and this script let him down. And how, after not being able to perform for the whole film, can he have an erection on his deathbed? Really terrible and I felt like I needed a bath.\n",
      "Model Prediction:  NEGATIVE\n",
      "Confidence Score:  0.9997097849845886\n",
      "Actual Label:  NEGATIVE\n",
      "At the bottom end of the apocalypse movie scale is this piece of pish called 'The Final Executioner'.. at least where I come from. A bloke is trained by an ex-cop to seek vengeance on those that killed his woman and friends in cold blood.. and that's about it. Lots of fake explosions and repetitive shootings ensue. Has one of the weirdest array of costumes I've seen in a film for a while, and a massive fortress which is apparently only run by 7 people. GREAT job on the dubbing too guys(!) Best moment: when our hero loses a swordfight and is about to be skewered through the neck, he just gets out his gun and BANG! Why not do that earlier? It's a mystery. As is why anyone would want to sit through this in the first place. I'm still puzzling over that one myself now.. 2/10\n",
      "Model Prediction:  NEGATIVE\n",
      "Confidence Score:  0.9980851411819458\n",
      "Actual Label:  NEGATIVE\n",
      "New York family is the last in their neighborhood to get a television set, which nearly ruins David Niven's marriage to Mitzi Gaynor. Bedroom comedy that rarely ventures into the bedroom(and nothing sexy happens there anyway). Gaynor as an actress has about as much range as an oven--she turns on, she turns off. Film's sole compensation is a supporting performance by perky Patty Duke, pre-\"Miracle Worker\", as Niven's daughter. She's delightful; \"Happy Anniversary\" is not. * from ****\n",
      "Model Prediction:  NEGATIVE\n",
      "Confidence Score:  0.9934791326522827\n",
      "Actual Label:  NEGATIVE\n"
     ]
    },
    {
     "name": "stdout",
     "output_type": "stream",
     "text": [
      "The best thing about \"The Prey\" is the tag line...\"It's not human and it's got an axe\"! The movie itself is a padded stinkaroo....endless insect and wildlife shots make the viewer wanna die! No slasher fan will like this garbage.....Watch \"Friday the 13th\" again and burn any copy of this film you find! <br /><br />It also rates as one of the 25 worst films ever made!\n",
      "Model Prediction:  NEGATIVE\n",
      "Confidence Score:  0.9997133612632751\n",
      "Actual Label:  NEGATIVE\n",
      "Even by the lowered standards of '80s slasher movies, this one stinks. The usual gaggle of oversexed teens heads for a \"forbidden\" part of forest, which burned in the 1940s and apparently left a sole angry survivor. Fast forward (actually, you'll want to fast-forward through much of this mess) to the present day, where a couple of campers are butchered; the teens follow in their wake, while a semi-concerned park ranger (a sleepwalking Jackie Coogan) and his healthier cohort (who spins a lot of time tuning his banjo) succeed partially in steering our attention from yards of run-of-the-mill nature-footage padding. Finally, more killings--but nothing you haven't seen a zillion times before. If you want to see the kids butchered, opt for SLEEPAWAY CAMP or the first FRIDAY THE 13TH over this\n",
      "Model Prediction:  NEGATIVE\n",
      "Confidence Score:  0.998913049697876\n",
      "Actual Label:  NEGATIVE\n",
      "Foolish hikers go camping in the Utah mountains only to run into a murderous, disfigured gypsy. <br /><br />The Prey is a pretty run of the mill slasher film, that mostly suffers from a lack of imagination. The victim characters are all-too-familiar idiot teens which means one doesn't really care about them, we just wonder when they will die! Not to mention it has one too many cheesy moments and is padded with endless, unnecessary nature footage. However it does have a few moments of interest to slasher fans, the occasional touch of spooky atmosphere, and a decent music score by Don Peake. Still, it's business as usual for dead-camper movies.<br /><br />There are much better films in this vein, but over all The Prey may be watchable enough for die-hard slasher fans. Although one might be more rewarded to watch Just Before Dawn (1981), Wrong Turn (2003), or even The Final Terror (1983) again.<br /><br />* 1/2 out of ****\n",
      "Model Prediction:  NEGATIVE\n",
      "Confidence Score:  0.9954083561897278\n",
      "Actual Label:  NEGATIVE\n",
      "Thank God I didn't buy this movie myself! I borrowed it from a friend who bought it out of sheer curiosity and of course after viewing it feel they should be reimbursed! This has got to be one of THE worse movies I've EVER seen! I do realize they couldn't have had much of a budget but I swear I could make a better movie than this staring my pets! The acting was horrible, so was the editing, the dialogue, EVERYTHING! It was so bad that it was seriously making me angry as I watched it! I'm looking forward to the REAL movie about this story coming out soon so that people curious about it don't have to stoop to watch this joke!\n",
      "Model Prediction:  NEGATIVE\n",
      "Confidence Score:  0.999586284160614\n",
      "Actual Label:  NEGATIVE\n",
      "Are you kidding me? This is quite possibly the worst, amateur movie I've ever seen. The casting was horrible, the acting was worse than horrible and I'm sorry, the guy at the picnic speed loading his plate full of food was somewhere near pointless and the demonic turd and chamber pot chasing Drew around was nothing more than comical. When I herd about the Bell Witch, I wanted to believe. I read some literature on it and thought it sounded like it was possible a plausible story. But this movie just destroyed that. Ric White (Director, Writer, Lead Actor, etc) takes himself a bit too seriously and I think he gives himself a little more credit than he deserves....Do yourself a favor....skip this one.\n",
      "Model Prediction:  NEGATIVE\n",
      "Confidence Score:  0.9998123049736023\n",
      "Actual Label:  NEGATIVE\n",
      "In addition to the fact that this is just an abysmally made film (imagine giving a camcorder to the average high school drama club) the people who think that there is anything \"real\" about this legend need to grow up. This is the 21st century. Guess what: ghosts don't exist. Most people learn that from their mother when they're about 5 years old. You guys seriously need to grow up.<br /><br />The fact that a fraud was perpetrated nearly 2 centuries ago does not make it any less a fraud. The fact that a large number of inbred hillbillies from Tennessee believe it doesn't do it either. Go to college. Or at least finish high school.\n",
      "Model Prediction:  NEGATIVE\n",
      "Confidence Score:  0.9968321919441223\n",
      "Actual Label:  NEGATIVE\n",
      "I wanted to like this movie. I really, really did. I was so excited when I saw the preview, which scared the hell out of me. But when I saw the actual film, I was disappointed. The acting is stilted, and the attempts at comedy are woefully out of place and forced. And I'm sorry, but a boy being chased by a turd in a bedpan is not funny or scary, it's just stupid. I grew up on the Bell Witch legend, so I know quite a bit about it. A lot of facts in the movie are right on target, but this film should have been much better. The entire birthday party scene, for example, lasts about fifteen minutes, adds nothing to the plot or the story, and should have been left on the cutting room floor. A more heavy-handed editor might have been able to get a decent film out of this mess.<br /><br />Please understand, I'm not in any way, shape or form involved with the other Bell Witch movie, and I'm not trying to \"attack\" this IMDb listing. I'm just telling it like it is.\n",
      "Model Prediction:  NEGATIVE\n",
      "Confidence Score:  0.9996121525764465\n",
      "Actual Label:  NEGATIVE\n",
      "The filmmaker stayed true to the most accurate account of the story published in 1894 which includes an 1846 manuscript by Richard Williams Bell (son of John and Lucy Bell and younger brother of Betsy Bell) titled \"Our Family Trouble.\" To knowledge this is the only eyewitness account ever penned. The filmmaker should be credited for accuracy but there is little to say about the production and acting quality. The acting was theatrical and the sound and picture quality was extremely poor. It appears that the filmmaker simply shot scenes of the reported events that took place without incorporating or weaving them into a flowing plot or story line. If you must know the story, read about it, its much more gripping and conclusive.\n",
      "Model Prediction:  NEGATIVE\n",
      "Confidence Score:  0.9912658333778381\n",
      "Actual Label:  NEGATIVE\n",
      "I love ghost stories and I will sit through a movie til it's end, even if I'm not really enjoying it. I rarely feel like I wasted my time... BUT, this adaptation of the Bell Witch story was horrible! <br /><br />It wasn't scary in the least bit. What is with the comic relief moments? The dialog was tedious. Acting inconsistent The movie was WAY too long and some scenes were unnecessarily drawn out in my open. (Like the birthday party)<br /><br />The only good think I can think about mentioning is the costumes and props were well done.<br /><br />I am curious about other adaptation, but until then, I will stick to reading about the story.\n",
      "Model Prediction:  NEGATIVE\n",
      "Confidence Score:  0.9981796741485596\n",
      "Actual Label:  NEGATIVE\n",
      "If you took all the stock elements of a Shrek movie (grumpy ogre, annoying donkey, cute kitty, obligatory dance number, etc.), put them in a blender and condensed it to 20 minutes, you'd have this mess. Painful to watch; I may have laughed once. The story and dialogue are rushed beyond comprehension, with the voice actors sounding like they phoned in their lines. The final reworked rendition of \"The Christmas Story\" poem felt like it was written by a committee in five minutes. And boy, a little Eddie Murphy goes a long way. With its desperate attempt to be hip and current, this show will be long outdated and forgotten while classics like \"The Grinch",
      "\" will remain timeless. A sad waste of effort by all involved, a veritable \"jumping of the shark\" for the Shrek franchise.\n",
      "Model Prediction:  NEGATIVE\n",
      "Confidence Score:  0.9997488856315613\n",
      "Actual Label:  NEGATIVE\n",
      "I saw this movie yesterday and thought it was awful; it was pointless and just plain stupid. the supposed plot concerned a prospective bridegroom too caught up in the problems of the world to relate to his bride and the other people in his life. He disappears on his wedding day (in a tux no less) and hooks up with an assortment of weirdos.<br /><br />We saw it with a bus-load of people on the way down to Atlantic City and everyone agreed that it was a terrible movie. It was trying to be profound but it wasn't; it was stupid and offensive. If I wasn't on a bus I would have walked out on the movie. Anyone considering seeing the movie or renting or buying the video you have been forewarned.\n",
      "Model Prediction:  NEGATIVE\n",
      "Confidence Score:  0.9996910095214844\n",
      "Actual Label:  NEGATIVE\n"
     ]
    },
    {
     "name": "stdout",
     "output_type": "stream",
     "text": [
      "The English translation of the title on the DVD version of this film is \"Graveyard of Horrors,\" but I think that must be an error. It should have been called \"Graveyard of Horribles.\" Horrible acting, horrible editing, horrible story, and horrible music all make this a horrible film best left in a horrible graveyard.<br /><br />Horrible.\n",
      "Model Prediction:  NEGATIVE\n",
      "Confidence Score:  0.9996910095214844\n",
      "Actual Label:  NEGATIVE\n",
      "What if someone made a horror movie that was completely devoid of plot?<br /><br />Well, I think it would probably end up a little bit like this one. I don't think I've ever seen a move was so steady it its slide from hackneyed (at the beginning) to complete crap (by the end). I only stuck with it, because I kept thinking it couldn't possibly get worse. Well, up until the very end, \"Necrophagus\"/\"Graveyard of Horror\" proved me wrong.<br /><br />Who would have suspected that a movie with an undead lizard-man, evil grave-robbing cultists, and mad scientists tossed in for no discernible reason could suck this bad? One would think there'd at least be some humor value... but not here.\n",
      "Model Prediction:  NEGATIVE\n",
      "Confidence Score:  0.999613344669342\n",
      "Actual Label:  NEGATIVE\n",
      "Seeing this film for the first time twenty years after its release I don't quite get it. Why has this been such a huge hit in 1986? Its amateurishness drips from every scene. The jokes are lame and predictable. The sex scenes are exploitative and over the top (that is not to say that Miss Rudnik does not have nice boobs!). The singing is \"schrecklich\". The only genuinely funny scene is the big shoot out when the gangsters die break dancing, a trait that dates the movie firmly to the mid-eighties. It's really quite puzzling to me how incapable I am to grasp what evoked the enthusiasm of the cheering audiences in 1986 (and apparently still today, reading my fellow IMDBers comments).\n",
      "Model Prediction:  NEGATIVE\n",
      "Confidence Score:  0.9995355606079102\n",
      "Actual Label:  NEGATIVE\n",
      "I had to see this on the British Airways plane. It was terribly bad acting and a dumb story. Not even a kid would enjoy this. Something to switch off if possible.\n",
      "Model Prediction:  NEGATIVE\n",
      "Confidence Score:  0.9997883439064026\n",
      "Actual Label:  NEGATIVE\n",
      "The Bridge At Remagen contains some of the most preposterous war time screenplay I've ever seen. Aside from the acting, which is wooden, no tank commander attacks with his tanks parked in nice neat rows, up the middle of roads, and with troops bunched all together with their arms not at the ready. The constant suicidal behavior set off my \"tilt switch\" so often I found it impossible to enjoy the movie. Apparently the screen writers and director have never been through actual warfare and never bothered to bring in an expert who had. This movie is the very antithesis of the excellent detail in Saving Private Ryan. Unless you are under 7 years old, I recommend watching something else.<br /><br />GB\n",
      "Model Prediction:  NEGATIVE\n",
      "Confidence Score:  0.5706806182861328\n",
      "Actual Label:  NEGATIVE\n",
      "Veteran TV director Ted Post treats us to a plodding, confused and ultimately pointless story lifted from Column B of the Harold Robbins Big Book Of Plots. Set against a smoggy Phoenix skyline, post-Charlies Angles Jaclyn Smith takes a star turn as \"the woman whose eyes are mysteriously shadowed at all times\" while JFK impersonator James Franciscus lounges around the fringes. <br /><br />Mannix goes western, monkeys are abused, models lean against classic cars, and Smith is constantly upstaged by Sybil Danning until a giallo style wrap-up brings the whole sorry mess to a bitter end.<br /><br />Oh yeah, and Bob Mitchum is in there too. Somewhere.\n",
      "Model Prediction:  NEGATIVE\n",
      "Confidence Score:  0.9991521835327148\n",
      "Actual Label:  NEGATIVE\n",
      "Filmed in Arizona by a mostly-foreign crew, \"Nightkill\" is one of the clumsiest crime dramas I have ever seen. Robert Mitchum (in a cowboy hat) trails recently-widowed Jaclyn Smith around, hoping to figure out if she had a hand in her husband's death. Jaclyn's wardrobe is of the Dale Evans variety and her dog is named \"Cowboy\"...seems as if somebody sure bought into the American myth that all westerners talk and dress like descendants of John Wayne! Screenplay by Joan Andre and John Case may have worked better if approached as parody; this mystery thriller just plays tame, with director Ted Post asleep at the controls. Don't be drawn in by the video box art of Jaclyn screaming while taking a shower. She does indeed take a shower in this film, but it is not revealing (nor does it further the murky plot one iota). NO STARS from ****\n",
      "Model Prediction:  NEGATIVE\n",
      "Confidence Score:  0.9981245398521423\n",
      "Actual Label:  NEGATIVE\n",
      "Nightkill stars Robert Mitchum as a world-weary private eye probing the case of a missing industrialist (Mike Connors). He is hired by Jaclyn Smith, the anxious wife of the missing man. What Jaclyn fails to inform Mitchum is that she knows full well her husband's whereabouts. After all, she was the one who helped her lover James Franciscus dispose of her wealthy hubby.<br /><br />What more would expect from a rotten slasher film with Robert Mitchum? Mannix goes western, monkeys are abused, models lean against classic cars, and Smith is constantly upstaged by Sybil Danning until a giallo style wrap-up brings the whole sorry mess to a bitter end. This is BAD cinema. And this movie is sooooo poor. It makes it look like Halloween mixed up with Trick Or Treats. Avoid this.<br /><br />Rated R for Graphic Violence, Nudity and Sexual Situations.\n",
      "Model Prediction:  NEGATIVE\n",
      "Confidence Score:  0.9996941089630127\n",
      "Actual Label:  NEGATIVE\n",
      "Three businessmen are involved in a bar fight with three mysterious men. The three businessmen take revenge, which escalates to a murder after another. Supposedly the story is about the violence that could happen to ordinary people.<br /><br />The plot has too many holes. The details were ignored in order to move the story forward. The acting was uneven. The color balance was awful even though I watched this movie in DVD. The small budget and tight schedule were apparent. The whole thing seems to be an excuse to shoot the final gun fight, and the ending was just unbelievable.\n",
      "Model Prediction:  NEGATIVE\n",
      "Confidence Score:  0.9996967315673828\n",
      "Actual Label:  NEGATIVE\n",
      "This film is on my list of worst movies ever made. The story is disconnected and it is difficult to understand what is going on or the reason for the characters' actions. All films need to have an inner logic, and this film just doesn't have it - the story doesn't make any sense. <br /><br />To see Faye Dunaway, Christopher Plummer and Diana Quick wasting their talents in this movie is a crime. Faye Dunaway is the lucky one, because she plays the victim and gets killed early in the film. On the other hand, Donald Sutherland must be an amazing actor because he manages to look good in spite of bad directing and bad writing; his performance is believable and he manages to stay in character in spite of everything. <br /><br />If Dame Agatha Christie were alive she would die laughing! The movie is that bad!\n",
      "Model Prediction:  NEGATIVE\n",
      "Confidence Score:  0.999224066734314\n",
      "Actual Label:  NEGATIVE\n",
      "This is indeed one of the weakest films based on Agatha Christie's work, a lifeless, muddled mystery that clearly lacks the grace (and the budget!) of its predecessors (\"Death On The Nile\", \"Evil Under The Sun\") and Donald Sutherland is a pale shadow of Peter Ustinov as far as screen detectives go (of course, he is playing a character much less interesting than Poirot). The film manages to coast as far as it does on the strength of Christie's plot alone (all her plots have a certain amount of inherent interest), but the direction is hopelessly flat. (*1/2)\n",
      "Model Prediction:  NEGATIVE\n",
      "Confidence Score:  0.9997740387916565\n",
      "Actual Label:  NEGATIVE\n",
      "When at the very start of the film Paleontologist Donald Sutherland arrives at the Argyle family's house and it comes out he is the undeniable alibi for one of the members executed for murdering his mother two years ago your sensation is that you are about to watch a top thriller; an innocent man has been convicted and a killer is still around. But as the film runs along your disappointment increases inevitably.<br /><br />\"Ordeal by Innocence\" is a dull and at times even boring film that doesn't raise at any moment. Nothing interesting happens all along and even the final revealing of the facts lacks surprise and intensity (wether you guessed or not).<br /><br />Donald Sutherland, Cristopher Plummer, Faye Dunaway and Sarah Miles (far from her good performance in \"Ryan's Daughter\") just pass through their roles and not very enthusiastically either.<br /><br />You won't miss much if you skip this one.\n",
      "Model Prediction:  NEGATIVE\n",
      "Confidence Score:  0.9985557198524475\n",
      "Actual Label:  NEGATIVE\n",
      "Producers Golan and Globus should have been ashamed to release this piece of trash publicly. I know this is gonna sound cliched, but compared to this, the first \"Hercules\" of 1983 looks like a mature and exciting epic! This \"sequel\" is moronic, cheap, unredeemable, childish, phony, inept and BADLY ACTED. A landmark in bad cinema, and one of the few, few movies I've seen that REALLY deserve the lowest possible rating: no stars!\n",
      "Model Prediction:  NEGATIVE\n",
      "Confidence Score:  0.997710108757019\n",
      "Actual Label:  NEGATIVE\n"
     ]
    },
    {
     "name": "stdout",
     "output_type": "stream",
     "text": [
      "Aya! If you are looking for special effects that are 10-20 years before its time, this is it. The glowing lightning bolts, fireballs, etc. look like they came from a cheesy 70's sci-fi flick. And yes, Hercules really grows; he's not being pushed on a cart closer to the camera!\n",
      "Model Prediction:  NEGATIVE\n",
      "Confidence Score:  0.9015204310417175\n",
      "Actual Label:  NEGATIVE\n",
      "Looking for a REAL super bad movie? If you wanna have great fun, don't hesitate and check this one!<br /><br />Ferrigno is incredibly bad but is also the best of this mediocrity.<br /><br />\n",
      "Model Prediction:  NEGATIVE\n",
      "Confidence Score:  0.6034921407699585\n",
      "Actual Label:  NEGATIVE\n",
      "I would put Death Wish 3 in the same box as Stallone's Cobra and Commando. The box that I would sell for $2 at a garage sale with all the videos inside. The story is about the main character coming back from the previous movies' success to ruin it all with this load of trash. Why did the makers want to destroy the reputation of the past 2 films with this cheap junk. The story is so lame that had to be a outrageous sequel. I mentioned Cobra earlier because it has the same mood, that one man can kill 20 or 30 gang members without a scratch. Both this movie and Cobra were bent on showing the hero firing his guns at hip level and the enemy falling in large numbers. Police officers spend hours at the shooting range so why did they get gunned down by gang members firing aimlessly from their hips? This movie was so bad I thought for a minute it was Death Wish 4.\n",
      "Model Prediction:  NEGATIVE\n",
      "Confidence Score:  0.999813973903656\n",
      "Actual Label:  NEGATIVE\n",
      "JP3 lacks the Spielberg touch. It's an all-out assault on the senses featuring \"in your face\" dinosaurs. Watching this film was a bit like a roller coaster ride from hell. <br /><br />The script is lame; it simultaneously asks and then leaves too many questions unanswered. Also, we don't really get to appreciate the humans in the film for all they're worth. For example, William H. Macy is too great a talent to have to compete with dino-thugs for our attention. And Laura Dern was especially sympathetic in JP1; in this film, she's barely a blip on the radar screen.<br /><br />The whole JP3 experience was t o o m u c h. Too much noise, too many surprises, too many characters dying off, too much predictable, gratuitous violence. <br /><br />Word to the wise: vote yourself off this island.<br /><br />(I rated it a 3 for special effects; I took off the other 7 points for having absolutely no originality.)\n",
      "Model Prediction:  NEGATIVE\n",
      "Confidence Score:  0.9995001554489136\n",
      "Actual Label:  NEGATIVE\n",
      "Did people expect \"Jurassic Park 3\" to be full of surprises? Not one moment of it is worth it. Many elements could easily scare people out of the movies...and it's not the dinos! Tea Leoni...I think she's a great actress, but I'm sorry to say that this time she reached the bottom line. I wonder if she happened to strain a vocal chord while shooting the movie....Laura Dern...she's ok, but why not be more noticeable in the movie, maybe exchange smart dialogs with Sam Neil. Alessandro Nivola - \"have you ever heard of something called facial expression? Fellings, emotions...\"..he's got to work harder on that! Sam Neil, no big deal. The soundtrack...got to change that record, or you get tired of it. My applause goes to William H. Macy, a talented actor who I've never seen playing a bad role....unfortunately he can't save the movie, nor can the well computer-created dinosaurs.\n",
      "Model Prediction:  NEGATIVE\n",
      "Confidence Score:  0.9975389242172241\n",
      "Actual Label:  NEGATIVE\n",
      "This movie was perhaps the biggest waste of 2 hours of my life. From the opening 10 minutes, I was ready to leave. The cliches there slapping you in the face, and the plot was not only predictably stupid, but full of more holes than swiss cheese. I am considering suing for that lost 2 hours, and $6.25 along with the fact that I am now stupider for watching this waste of film. The T-Rex's must be flipping in their graves, so to speak.\n",
      "Model Prediction:  NEGATIVE\n",
      "Confidence Score:  0.9997918009757996\n",
      "Actual Label:  NEGATIVE\n",
      "How sad it is when a film as wonderful as \"Jurassic Park\" slowly nosedives into hackneyed and mediocre territory throughout its franchise. The newest sequel, Jurassic Park III, has given no thought to characters, a story, or pretty much a script, and instead relies on non-stop dinosaur action, which is neither thrilling nor very interesting to watch. The dinosaurs seemed to look incredibly fake compared to the 1993 technology, after 7 years of CGI advancements, it only gives you more of the feeling that the film was pumped out for the summer relying only on its name. The introduction of a pterodactyl does not a great movie make.<br /><br />Go see \"Shrek\" again.<br /><br />\n",
      "Model Prediction:  NEGATIVE\n",
      "Confidence Score:  0.9997079968452454\n",
      "Actual Label:  NEGATIVE\n",
      "Number 1 was really great summer popcorn fun. It was the modern Jaws.<br /><br />Number 2 is best summed up by Jeff Goldblum in the movie about being the stupidest idea in the history of stupid ideas (or something like that).<br /><br />Number 3 is the obituary notice...JP has achieved all it ever will. <br /><br />Once they realized they had no fresh ideas they should have just let sleeping dinos lie.<br /><br />That said. Movie is ok if you don't mind knowing you already have seen it before.<br /><br />\n",
      "Model Prediction:  POSITIVE\n",
      "Confidence Score:  0.9939839243888855\n",
      "Actual Label:  NEGATIVE\n",
      "It's clear that for this film they wanted to have the story line driven by the characters. But immediately the story line causes you to dislike the new main characters. The fly-over of the island and dinosaurs below lacked any impact at all and almost looked like a cartoon. The all action entrance to the island is merely a rehash of parts from JP 1 and 2. The story-line is predictable to the point of annoyance and it's entirely unsatisfying end left me feeling cheated. This gave me with no option but to award the film 3/10!\n",
      "Model Prediction:  NEGATIVE\n",
      "Confidence Score:  0.9996058344841003\n",
      "Actual Label:  NEGATIVE\n",
      "This would probably be a good film to see....provided you've already seen every other film in existence, and thoroughly explored the bellybuttons of yourself and those around you. God, this movie was unbelievably insipid, with some of the worst (or is it nonexistent) writing ever captured on film. There is no saving grace to this film; even the animatronics are kind of lame, and it's just a complete waste of time and money.<br /><br />Run. Fast. It's beyond horrible.<br /><br />\n",
      "Model Prediction:  NEGATIVE\n",
      "Confidence Score:  0.9995700716972351\n",
      "Actual Label:  NEGATIVE\n",
      "I was disappointed with the third film in the \"Death Wish\" series and wouldn't recommend this unless you are really into Bronson. He is his usual self in this one, maybe a bit lighter hearted than in the others; the rest of the cast is good if your watching a movie of the week on T.V. - the whole film has the production value of a bad episode of the A-Team and I like the escapism fun of a show like the A-Team but not on the big screen, even if it is an action movie that doesn't claim to be anything to sophisticated. The film takes a while to get going and then when it finally does, it gets out of control to the point of ridiculousness. The plot is something out of an episode of \"Highway to Heaven\" and Bronson seems like a fish out of water with the majority senior citizen cast and the gun play is so out of control you don't even get any satisfaction from Bronson's revenge against the bad guys. Skip this and go on to the 4th installment which I highly recommend.\n",
      "Model Prediction:  NEGATIVE\n",
      "Confidence Score:  0.9960798621177673\n",
      "Actual Label:  NEGATIVE\n",
      "You could have put the characters on the island for any reason at all and had the same movie. The first one had an original story, the second stole one from King Kong, and in the end (I hope) of this trilogy the story seemed to have been bypassed altogether. Drop some people on an island full of dinosaurs and watch them run for their lives. That was about all there was to it. The special effects were decent but not worth 8 dollars. If you have a discount theatre in your local area, wait and see it for a buck. I wouldn't even bother renting it. That would be too much money for this unthrilling thriller.\n",
      "Model Prediction:  NEGATIVE\n",
      "Confidence Score:  0.9993158578872681\n",
      "Actual Label:  NEGATIVE\n"
     ]
    },
    {
     "name": "stdout",
     "output_type": "stream",
     "text": [
      "When i went to see this i thought, i liked the first two and thought that they were very suspenseful so this one should be good also. WRONG! There was NO suspense and they don't explain about the new dinosaurs! When i was done watching this i had lost all respect for Steven Spielberg and Michael Crichton but then it turned out that it wasn't directed by Spielberg or written by Michael Crichton! This movie was going through \"the motions.\" i thought that this movie had absolutely no plot and i thought that no one should waste their money to see it.\n",
      "Model Prediction:  NEGATIVE\n",
      "Confidence Score:  0.9975661039352417\n",
      "Actual Label:  NEGATIVE\n",
      "I would like to comment on how the girls are chosen. why is that their are always more white women chosen then their are black women. every episode their is always more white women then black one's. as if to say white women are better looking then black women. I would like for once see more black women then white. and it not just your show it's like that in a lot of shows always more white's. but i would have thought since you as the head honcho of the show you would see this yourself and have more black women on your show. but you are just like the rest trying to act like you are so fair and nice. you are just a big fony hypocrite.\n",
      "Model Prediction:  NEGATIVE\n",
      "Confidence Score:  0.9852102398872375\n",
      "Actual Label:  NEGATIVE\n",
      "Tyra & the rest of the modeling world needs to know that real women like myself and my daughter don't care to see all the ridiculous modeling to sell something. Weird locations, too much makeup & too much skin is not necessary. Sex does not always sell when you are selling to women. The same goes for the horse stomping runway walk that looks unnatural. People come in all shapes & sizes & they need to have that on the show. My daughter has a 36\" inseam, is tall & slender & a size 5, I am more average at a size 12. We would like to see both- I can not picture how something would look on me when a size 2 is wearing it, it will not fit the same way on me. I do not buy magazines anymore because they are one sided on this matter. We would really love the show to consider women of all sizes. Thank you.\n",
      "Model Prediction:  NEGATIVE\n",
      "Confidence Score:  0.6881168484687805\n",
      "Actual Label:  NEGATIVE\n",
      "This is by far the most vapid, idiotic, insanely stupid show that has EVER been on the air, and this is coming from someone who remembers \"San Pedro Beach Bums\".<br /><br />My wife loves watching reality shows--and there was one episode of this drivel where the wannabes had to develop a \"walk\". The end result was straight out of Monty Python's \"Ministry of Silly Walks\" sketch. I couldn't laugh hard enough.<br /><br />And then there's the ubiquitous Ms. Banks (as in laughing all the way to the...). She has to be the most annoying self-important woman on TV since Rosie O'Donnell left \"The View\". As if modeling was doing great things for mankind. Please. I've never found her attractive, and I don't find her intelligent now that she has the temerity to open her mouth.<br /><br />Someone needs to tell these human clothes hangers to eat a healthy diet and actually look like real women.\n",
      "Model Prediction:  NEGATIVE\n",
      "Confidence Score:  0.9996721744537354\n",
      "Actual Label:  NEGATIVE\n",
      "It was awful plain and simple. What was their message? Where was the movie going with this? It has all the ingredients of a sub-B grade movie. From plotless storyline the bad acting to the cheesey slow-mo cinematography. I'd sooner watch a movie I've already seen like Goodfellas, A Bronx Tale, even Grease. There are NO likeable characters. In the end you just want everyone to die already. Save 2 hours of your life and skip this one.\n",
      "Model Prediction:  NEGATIVE\n",
      "Confidence Score:  0.9997535347938538\n",
      "Actual Label:  NEGATIVE\n",
      "Wow! i think they made this movie to torture people. there are no words for how much i hated this film. I could have been cleaning my room instead. i love bad melodrama as much as the next person but....come on!\n",
      "Model Prediction:  NEGATIVE\n",
      "Confidence Score:  0.9980744123458862\n",
      "Actual Label:  NEGATIVE\n",
      "This movie could very well have been a propaganda movie for the North americian falangist party - or some similar group... The strong man (Kersey) places himself above the law (but not outside the law) and liberates upstanding citizens by killing worthless trash. The only thing that made me think it wasn't made by the KKK was the fact that a jew starred as a good guy... Try watching it again while thinking of it as a propaganda movie for an extreme right wing group - and you'll see what I mean...<br /><br />It's a tragedy that Jimmy Page actually made music for this movie... :(\n",
      "Model Prediction:  NEGATIVE\n",
      "Confidence Score:  0.9950770735740662\n",
      "Actual Label:  NEGATIVE\n",
      "Imagine every stereotypical, overacted cliche from every movie and TV show set on the streets of Brooklyn between 1930 and 1980. Populate it with a cast of interchangeable caricatures instead of actual characters. Throw in a mix of \"period\" music and wailing electric guitars during the \"rumble\" scenes. Then pass the time trying to figure out (or care) which of the Deuces is going to be killed in the (anti)climactic final rumble.<br /><br />I'll give this movie points for not being just another romantic comedy, teen slasher, explosive action movie, teen sex comedy, kiddie musical, or Oscar-nomination vehicle. But bringing something new or interesting to the street-gang tragedy genre might've been nice.\n",
      "Model Prediction:  NEGATIVE\n",
      "Confidence Score:  0.9907904863357544\n",
      "Actual Label:  NEGATIVE\n",
      "Maybe it was the fact that I saw Spider-man the day before I saw Duces Wild, but I do not think that there can be any excuse for this movie being as bad as it was. The cast was there to do it, but it seemed as if once they found them selves with a decent cast they had to try and make them fit into the movie. The only problem was that they did not fit. I did not like any of the characters and the story was sketchy at best. I left wondering why i spent my money on this movie.\n",
      "Model Prediction:  NEGATIVE\n",
      "Confidence Score:  0.9996227025985718\n",
      "Actual Label:  NEGATIVE\n",
      "Worst pile of drivel to date! Everyone involved with this production should be ashamed of themselves. Not one single element of the movie was anything slightly like an original idea. A first grader telling you a story about nap time is more entertaining.\n",
      "Model Prediction:  NEGATIVE\n",
      "Confidence Score:  0.9756463170051575\n",
      "Actual Label:  NEGATIVE\n",
      "In a nutshell the movie is about a gang war in the 1950's. Leon, the leader of the Deuces, starts the gang after his brother OD's on \"junk\". He vows to protect the neighborhood. The leader of the rival gang is just getting out of prison and wants revenge.<br /><br />The movie didn't really do it for me. The \"Good Guys\" weren't any more good than the \"Bad Guys\". Very little was shown to suggest that the Deuces really cared for the community. I suppose the writers were going for realism here, but I just didn't care which side won. None of the characters were likable, or even capable of drawing my sympathy.<br /><br />On the plus side the courtship between Annie and Bobby had some snappy dialog, and the acting overall was well done.\n",
      "Model Prediction:  NEGATIVE\n",
      "Confidence Score:  0.9473828673362732\n",
      "Actual Label:  NEGATIVE\n",
      "Worst movie ever seen. Worst acting too. I cannot imagine a movie worse then this. Nothing to see. No acting at all.T hey (actors) should look for another job. I cant't understand who was stupid enough to actually put money into this movie.<br /><br />I'm sorry for Eric Roberts. Must be tough...I cannot imagine how HUUUGE his mortgage must be to justify taking the job!<br /><br />The ladies in the movie...perhaps they better stick to XXX.<br /><br />As for the LEADING MAN...what a lead! He better be put on a lead and stay there! I can see him being more successful at barking rather than acting. <br /><br />Overall rating: Do NOt rent...DO NOT BUY!\n",
      "Model Prediction:  NEGATIVE\n",
      "Confidence Score:  0.9997915625572205\n",
      "Actual Label:  NEGATIVE\n",
      "2001 wasn't perhaps Eric Roberts best year. Both Raptor and this came out. Watched Raptor a while ago and really thought it sucked and being Erics worst. But that had it´s share moment of fun and D-standard. This one doesn't have a thing.<br /><br />Tommy Lee Thomas is the name of the probably worst actor in these days. The story lacks any punch and the whole thing feels even slower than a snail breaking in curves.<br /><br />The two thing that stands out are Martin Kove and Eric Roberts. You could argue about their effort being good or what but compared to the rest they are above all criticism.<br /><br />I say thank you Roberts see you next time (and hopefully a better one).\n",
      "Model Prediction:  NEGATIVE\n",
      "Confidence Score:  0.9978218078613281\n",
      "Actual Label:  NEGATIVE\n"
     ]
    },
    {
     "name": "stdout",
     "output_type": "stream",
     "text": [
      "When the Legends Die is a powerful, moving story of an orphaned Ute Indian who goes on to become Tom Black Bull, a champion bronc rider. Raised in the old ways, Tom is given a white man's name and must adopt the language and ways of the white man to live in that world. Bitter about the role he has been forced into, Tom finds fulfillment doing one thing, busting horses, riding them to death, in the rodeo. The movie has Richard Widmark in the role of Red, the man who befriends Tom and acts as his manager. Red is a drunk who eventually dies in the story, which is about where the movie ends. The real story is completely ignored, the dark side of Tom Black Bull who develops a reputation as a killer of horses in the rodeo arenas. Oh well, you should read the book, this movie doesn't come close to doing the story justice.\n",
      "Model Prediction:  NEGATIVE\n",
      "Confidence Score:  0.9986259937286377\n",
      "Actual Label:  NEGATIVE\n",
      "The first half of this film held some promise as it seemed like the film was going to be a low-key character psychodrama like THE MINUS MAN but then the whole thing collapses into cliche and the viewer slowly loses all interest. There's a decent cast here but the film is lifeless and the talent completely wasted.\n",
      "Model Prediction:  NEGATIVE\n",
      "Confidence Score:  0.9997879862785339\n",
      "Actual Label:  NEGATIVE\n",
      "Horrible acting with the worst special f/x I've ever bore witness too. It's bad enough I wasted $3 to watch this crummy pile of crap, but it's the hour and a half time I lost that I could've been doing anything else like getting a root canal or volunteering for jury duty. Getting drunk couldn't even help this video.<br /><br />To put it bluntly, I sincerely believe I actually lost a few IQ points during the course of watching this idiotic piece of mind-numbing \"work\"! Perhaps I should have followed my own advice this time. Never expect a decent film if it's written, directed and produced by the same person, and never EVER expect anything of value from Jeff Fahey.\n",
      "Model Prediction:  NEGATIVE\n",
      "Confidence Score:  0.9994317889213562\n",
      "Actual Label:  NEGATIVE\n",
      "This film is truly pathetic in every conceivable department. awful, awful, awful. It's only around eighty minutes long, but believe me you'll feel like you're watching an Andy Warhol film (then again twenty hours in the life of the empire state building would surely be far more interesting).<br /><br />Where to start... the putrid script, the disgusting cinematography, the so bad its bad acting, the spectacularly dismal effects, dreadful music, or just the wafer thin plot that thouroughly resembles a sieve. This film is an incoherent shambles<br /><br />A particularly noteworthy scene takes place outside a cafe when Dominic Pinon decides to shoot a cat, cue the waitress watching through the cafe window who comments with an average English accent \"God damn\". To right that woman. God damn this horrendous monstrosity.<br /><br />Everyone involved should be thouroughly ashamed of themselves. Let us hope that the director never finds the funding to work again.\n",
      "Model Prediction:  NEGATIVE\n",
      "Confidence Score:  0.9988904595375061\n",
      "Actual Label:  NEGATIVE\n",
      "From the dire special effects onwards I was absolutely gob smacked at how bad anyone can make a film. Lets put it this way, I have absolutely no directing experience whatsoever and for the first time ever when watching a film I thought 'I can do better than that! whilst sat watching this pap. The acting in this film was terrible, I suppose the best actor was the guy from Lawnmower Man but the French guy from Aliens3 was so wooden I wondered how he got the former job in the first place. The storyline was mediocre and I suppose, like most films, If the rest had been done well it would have stood up. I don't usually write reviews here but after seeing a couple of people gave this film a good rating (must be cast/crew) I felt I had to say my piece to save anyone from accidentally hiring it or wasting their money on buying this cack.\n",
      "Model Prediction:  NEGATIVE\n",
      "Confidence Score:  0.9997056126594543\n",
      "Actual Label:  NEGATIVE\n",
      "OK, it was a \"risky\" move to rent this flick, but I thought I had nothing to lose.Well, I was wrong. This is, next to \"Bloodsurf\", the worst \"horrormovie\" I have ever seen. Crappy actors, crappy technical output, crappy story and so on. The soundtrack though, isn't to bad. That is why I give it a 2 on the vote and not just a 1. And of course the cats are a positive surprise. By far the superior actors in this movie..... Do not rent or buy it. Stay away from it and hope that this horrible, horrible film will vanish to some obscure existence and not become a \"cult classic\". It most definitely do not deserve any recognition.\n",
      "Model Prediction:  NEGATIVE\n",
      "Confidence Score:  0.9994884729385376\n",
      "Actual Label:  NEGATIVE\n",
      "I don't even understand what they tried to accomplish with this movie, i mean really. You got this guy running from a bunch of cats, because he's dead, but in order to be really dead this girl has to shoot them? And they leave a corpse even though normal people can't see them because their dead? The script already has a hole in it the size of Nebraska, then you have the main character played by Susan Paterno who just drones up her lines in a monotone, boring voice and with so little emotion on her face she might as well have starred as a female terminator robot. It's absolutely horrendous and I don't even understand how I managed to see it all the way to the end of the movie. The end being just as stupid as the entire movie mind you, and with absolutely no reward in it for the viewer what so ever. They might as well have called this movie \"the little movie that could choo-choo ka-choo.\"\n",
      "Model Prediction:  NEGATIVE\n",
      "Confidence Score:  0.9997699856758118\n",
      "Actual Label:  NEGATIVE\n",
      "It's a shame. There's an interesting idea here, but it gets completely lost in a confusion of Commodore 64 style computer effects and bad storytelling. The plot, such as it is, concerns a bounty hunter of souls. It should be a fairly straightforward hunter/hunted kind of story, but the director and/or the writer seem like they forgot what the movie was supposed to be when they were about three days into shooting. Things aren't helped by the fact that the main baddie looks like he's wearing a cheap Darth Maul mask, which they tried to disguise with flowing CG colors. Not much to recommend here, even the title seems to propel it into obscurity.\n",
      "Model Prediction:  NEGATIVE\n",
      "Confidence Score:  0.9993394017219543\n",
      "Actual Label:  NEGATIVE\n",
      "It's hard and I didn't expect it... But it's really the worst film, me and my wife saw. Awful dialogs that extend incomprehensibly through time without any apparent reason except to fill time. The storytelling doesn't follow a comprehensive intelligibly way",
      " everything is a mess. The action and the dialogs appear at jumps. The thing that disappointed me most was to see Dominique Pinon one of my French favorite actors involved in this",
      " uh",
      " I don't even know how to describe it without being polite",
      " The rest of the actors where at the most poor. Susan Paterno made a terrible interpretation of her character, making a flat inexpressive performance. Poor special effects. I don't think that it was a complete waste of film but it's close to",
      " If I'm to say I would advise everyone not to see this movie. I think it would be a complete waste of time. Sincerely I never though I would say something like that about a movie but",
      " there's always a first time.\n",
      "Model Prediction:  NEGATIVE\n",
      "Confidence Score:  0.9996418952941895\n",
      "Actual Label:  NEGATIVE\n",
      "This is truly one of the most awful movies of all time. It's dull, ponderous, badly acted, and teeth crawlingly pretentious.<br /><br />I watched for about an hour waiting for some kind of drama to unfold, before realising there wasn't any. The shot on a shoe string budget was particularly painful. These have to be the worst day for night shots since Plan Nine from Outer Space.<br /><br />The only barely redeeming feature is the ludicrous 'demons' wandering around the countryside with a plastic cat basket. How scary is that? And I did like the moggys used as extras, I suppose they are least cheap. Though it did seem a bit obvious that they had been enticed into camera by the careful placement of some tuna.<br /><br />This film is so dreadful, it should have a public health warning. There was a queue at my local video store when I took it back, of people demanding their money back. I kid you not!\n",
      "Model Prediction:  NEGATIVE\n",
      "Confidence Score:  0.9997896552085876\n",
      "Actual Label:  NEGATIVE\n",
      "First of all, I really can't understand how some people \"enjoyed\" this movie. It's the worst thing I have ever seen. Even the actors seem to be bored...and I think that says it all!<br /><br />However, I have to give my applause to the opening credits creators - that team seems to have a really good future. That's why I recommend the big studios to watch ONLY the opening credits, and one or two special effects sequences (if they're watched outside this movie, it almost looks like a good movie).<br /><br />Better luck (or judgment) next time for the producers of this, this... this \"thing!\".\n",
      "Model Prediction:  NEGATIVE\n",
      "Confidence Score:  0.9937503933906555\n",
      "Actual Label:  NEGATIVE\n"
     ]
    },
    {
     "name": "stdout",
     "output_type": "stream",
     "text": [
      "\"Death Wish 3\" is the movie equivalent of a shooting gallery. All the characters (apart from Bronson's Paul Kersey, of course) exist merely to be killed, either as \"provocation\" (the good guys) or as \"retribution\" (the villains). The director simply pours on the mindless violence (people even get burned alive and blown up), turning this into an urban version of \"Commando\" (and Charlie, like Arnold, rarely bothers to protect himself from the enemy gunfire). Fans of this short of thing (and, apparently, there are many) will enjoy it, others....beware. (*1/2)\n",
      "Model Prediction:  NEGATIVE\n",
      "Confidence Score:  0.9907722473144531\n",
      "Actual Label:  NEGATIVE\n",
      "I cant go for long describing this tittle, simply because I do not feel strong about it. I read a few comments and I see that only proud and patriotic Frenchmen seem to like it, that's all I can say...<br /><br />Boring Long Sometimes even stupid...<br /><br />p.s. 7.4 out of 10, the viewers must be going crazy<br /><br />I cant go for long describing this tittle, simply because I do not feel strong about it. I read a few comments and I see that only proud and patriotic Frenchmen seem to like it, that's all I can say...<br /><br />Boring Long Sometimes even stupid...<br /><br />p.s. 7.4 out of 10, the viewers must be going crazy\n",
      "Model Prediction:  NEGATIVE\n",
      "Confidence Score:  0.9994972944259644\n",
      "Actual Label:  NEGATIVE\n",
      "This is, arguably, the worst of the major Ava Gardner films. Yes, she is gorgeous. But that can wear thin over time, especially after the corny and predictable movie ending.<br /><br />In this turkey, Robert Walker has to pretend that he's Eddie Bracken (which surely embarrassed him). Olga San Juan plays the Jane Powell (golly, gee) part. Dick Haymes plays a sort of dim sidekick (!), and Eve Arden plays Helen Broderick (and a host of other wise-cracking female semi-comedians). Yes, the film contains a major popular song, \"Speak Low.\" But check out the other, entirely forgettable, pieces. Dick Haymes sings very well, of course, and so does the uncredited vocalist dubbing for Ava.<br /><br />The sets are cheap, the script is filled with clichés and failed humor, and Tom Conway looks as though he has been battling with liquor (as indeed he was). In short, if you want to see Ava in her prime, buy a photo and stay well clear of this movie.\n",
      "Model Prediction:  NEGATIVE\n",
      "Confidence Score:  0.9978121519088745\n",
      "Actual Label:  NEGATIVE\n",
      "I enjoyed the prequels, and found the relationship between Tucker and Chan previously hilarious. RH3, however, was a re-hash of the first two without the charm or humor. I think I may have laughed once - and it was during the NGs. Tucker was exceedingly annoying in this film, and his character didn't seem to have any purpose other than to bungle everything up in the most irritating way possible. Chan is always likable, but he seemed tired in this film. I was able to predict EVERYTHING - who the villain was, who the girl was, (SPOILER ALERT) who the good-guy-turned-bad-guy was, etc. I hope to see more movies from Tucker and Chan in their separate endeavors, but not in any more Rush Hour sequels. It's just too tired. I recommend a rental, but not a purchase.\n",
      "Model Prediction:  NEGATIVE\n",
      "Confidence Score:  0.9955392479896545\n",
      "Actual Label:  NEGATIVE\n",
      "For a series that was inspired by Kolchak, it's ironic that The X Files first attempt at a vampire episode should land squarely on it's ass. 3 has always puzzled me and - at the risk of sounding like the dreadful Hans Keller - I've often wondered if I'm missing the point. The story feels like a jigsaw that has pieces that don't match the box, and the result is you spending a cosy evening by the fire trying to match sky that is really sea. This incomplete feeling remains no matter how many times you revisit the episode and no matter how much attention you give it. I know that this review puts me in danger of being dragged to Whitby by teenage vampires who'll drink my blood while listening to Busted, but that's a risk I'm willing to take. I've always been a werewolf man myself.\n",
      "Model Prediction:  NEGATIVE\n",
      "Confidence Score:  0.9990831613540649\n",
      "Actual Label:  NEGATIVE\n",
      "You might think that a show about regular teens with superpowers would be interesting, but it's far from that. Take the concept for example: the main character(s) have a big secret that they hide from they're peers. It's just like Hannah Montana and That's So Raven. Next, the acting is just average. Selena Gomez seems to be half asleep through many scenes. Lastly, the jokes are either cliché or boring. If they're not using they're colorful, yet strange dialog to make us \"laugh\", they are throwing various props around the room. I really wish this show would use more original and entertaining material. In conclusion, Wisards of Waverly Place is a disappointment.\n",
      "Model Prediction:  NEGATIVE\n",
      "Confidence Score:  0.9997401833534241\n",
      "Actual Label:  NEGATIVE\n",
      "I have no idea why people are so crazy about the show. It is so boring. The jokes are not even close to what we usually say funny. It's like, Alex say something that is not funny nor interesting and then suddenly there's a laughing sound background. My friend and I just looked at each other with blank look as if we asked each other, \"What's so funny?!!\". Seriously, every time we watched that show, you wouldn't hear any laughing or coughing. Just a blank look. So we stop watching it. I am personally a fan of sitcoms, so I tried to watch the show. But the show us such a disappointment. This show might be one of the worst comedy sitcom ever...\n",
      "Model Prediction:  NEGATIVE\n",
      "Confidence Score:  0.9998151659965515\n",
      "Actual Label:  NEGATIVE\n",
      "OK, I just flipped channels and caught DW3. I watched it knowing it would be trash..BUT..as a person who has seen tons of films, this one stands up there as one of the most purely bad films I have ever seen...I'm not kidding. It is so bad you have to watch it, like a bad accident you can't turn away from. Sometimes these kinds of films work, IE, Troma movies...but watching Martin Balsam and Charles Bronson slum it up like this is painful....What's even funnier is I pulled up IMDb to see what other people said and it actually scores a 4.1/10??? I can't believe it made it past 1.5! Equally as funny is this is not even the pinnacle of this series...somehow this garbage warranted part 4 and 5? And to top it all off, some dude's comments on here referenced this as the best of the series and his favorite film of all time??? Statements like that scare me about this world!\n",
      "Model Prediction:  NEGATIVE\n",
      "Confidence Score:  0.994526207447052\n",
      "Actual Label:  NEGATIVE\n",
      "THE AFFAIR is a very bad TV movie from the 1970s starring the then-husband-wife team of Robert Wagner and Natalie Wood as hesitant lovers. She has polio and leads a reclusive existence as a pop song writer. He's an ambitious lawyer who is very outgoing and absolutely smitten with her. Their affair, such as it is, is doomed from the start, and she knows it, but goes along with it anyway. Two things to watch for if you are trapped into watching this: Wood's Jane Fonda hairdo that is never mussed, no matter what, and a tune she sings early in this dreadful flick. She sings it for four or five or six minutes, so you know it's classic padding between commercials. It also is one of the worst songs ever written, and the woman doing Wood's singing voice should have been shot and put out of her misery. Also, keep an eye out for all the peasant tops and dresses. By comparison, Wagner looks relatively timeless, with close-cropped hair and sporting a series of classic suits.\n",
      "Model Prediction:  NEGATIVE\n",
      "Confidence Score:  0.9992350339889526\n",
      "Actual Label:  NEGATIVE\n",
      "Reba is a very dumb show. You can predict pretty much anything that's about to happen. Barbra Jean is just too stupid. It's like she's not even a character. A show like this should at least have SOMEONE who resembles a real-life person. I guess Barbra Jean represents a retarded person. Keira or whatever her name is, Reba, Brock, they're all stupid! Keira is like the smartest person on the show, and she's still stupid. EVERYONE IS STUPID! That's my opinion on Reba. Since I have said all I can say about this show, I'll just take up the next few lines of text by saying what I am currently saying right now and do it until there's 10 lines. There. Reba gets 2/10.\n",
      "Model Prediction:  NEGATIVE\n",
      "Confidence Score:  0.9997058510780334\n",
      "Actual Label:  NEGATIVE\n",
      "Reba is , without a doubt , one of the worst \"comedy\" series ever. I wonder how come there are people writing good comments on \"Reba\" ... You watch \"Friends\" , \"Married Wtih Children\" , \"Fraizer\" if you laugh at that , you can never laugh at the stupid jokes and the ridiculous accent of the singer who is trying to make her way in comedy and obviously having no chance whatsoever. The actors/actresses beside Reba are OK so I feel bad for them stucking in a so-called comedy show with the least funnies person in the world (Reba).To sum up , I suggest this TV Show to see how low comedy can get and appreciate the ones that can make you laugh\n",
      "Model Prediction:  NEGATIVE\n",
      "Confidence Score:  0.9985520243644714\n",
      "Actual Label:  NEGATIVE\n"
     ]
    },
    {
     "name": "stdout",
     "output_type": "stream",
     "text": [
      "Naked Deanna Troi! <br /><br />Richie's brother Chuck (from \"Happy Days\") with a reverse mohawk!<br /><br />Death Wish 3 has all this and more, including one clever scene where Chuck Bronson's character sets up a mousetrap like device that brains a punk when he opens the window.<br /><br />Chuck also places a board with a bunch of nails on the floor near another window and smiles when he returns and sees bloody footprints leading away.<br /><br />All I can say about Death Wish 3 is that it is one of most incomprehensible \"serious\" movies that I have ever seen--loaded to the hilt with mayhem, and nearly zero police response, despite the use of military weapons to mow punks down by the score.<br /><br />As I understand it, Bronson disowned this film, but happily cashed the check from Golan Globus.<br /><br />If you enjoy quality movies, avoid this one, but if you're in for a cheap \"Jackass\" kind of thrill, check it out.\n",
      "Model Prediction:  POSITIVE\n",
      "Confidence Score:  0.9788352251052856\n",
      "Actual Label:  NEGATIVE\n",
      "Reba sucks. It sucks hard. It's about this awful country singer attempting comedy. They might as well call this show \"Generic\", because that's what it is. It's dumb and generic. Reba, you're not funny, and I'm glad your retarded show was cancelled because you suck, and so does Brock, Barbra Jean, the red-headed teenager, that jockey guy, and the 12 year old who got knocked up. You all suck, and none of you are funny. Oh, and I heard a rumor that Reba is actually a gay devil-worshipper who idolizes Hitler and tortures animals. And she puts subliminal messages on her show and in her \"music\" in hopes to make children kill their parents and kill themselves! But it was just a rumor. Anyway, this is the worst show ever, Reba is gay, I do not like her, I think The Office is better than this show, and this show sucks.\n",
      "Model Prediction:  NEGATIVE\n",
      "Confidence Score:  0.9997578263282776\n",
      "Actual Label:  NEGATIVE\n",
      "this really is an \"okay\" series.. everyone in it is pretty good. but i just can't take Reba. she's trying to be funny but she just isn't and then she got a stupid accent!! if they took her out of the show i would love to see it every day..<br /><br />i have been watching the show in 10 min now and as i said before, Reba IS destroying the show. however the 20 year old guy (dont know his name) but he's soooo funny, and he's really saving it all..<br /><br />so here's the recipe to get a great show. kick Reba of it and then put the 20 year old guy into the lead role.<br /><br />i really hope someone out there agrees with me and thinks (like me) that they should kick Reba of the show and put someone else in the lead role\n",
      "Model Prediction:  NEGATIVE\n",
      "Confidence Score:  0.6735169887542725\n",
      "Actual Label:  NEGATIVE\n",
      "I pretty much liked every character on this show from the start except Reba herself. She comes off as an holier than thou type and quite frankly a big Bully. And that stinks because she is in every scene and every episode. In the later seasons Van becomes unlikeable too,like a spoof of his former self. and Kyra walks around sneering and being miserable.The first 3 to 4 seasons are pretty good if you overlook Reba. Towards the end its pretty bleak.. In basically every episode Barbara jean Is walking around being dumb,Reba is being mean to her,but poor Ole Barbara jean desperately wants Reba to like her which results in Barabara jean telling Reba how awesome she is in every episode. I think it is pretty clear to see Reba has self esteem issues and wants to be seen as this all forgiving saint. Its really a shame too because other than her the show had such potential.\n",
      "Model Prediction:  NEGATIVE\n",
      "Confidence Score:  0.9891579151153564\n",
      "Actual Label:  NEGATIVE\n",
      "This show is made for persons with IQ lower than 80. The jokes in the show are so lame. If you are on a deserted island and you do not have anything to do you will be better than to watch this garbage.... You will hate their accent their behavior and all the stupid jokes and pranks they try to perform...It really pisses me of that viewers gave Reba 6.7 on their voting...Sure i knew there are some people with IQ lower than 80 but what i did not know that there are so many of them! So people if you got to read this I hope that you will never ever download or buy this peace of garbage... I know it is not the place for his but i wish to recommend one much better mini-series 'Scrubs'\n",
      "Model Prediction:  NEGATIVE\n",
      "Confidence Score:  0.9997283816337585\n",
      "Actual Label:  NEGATIVE\n",
      "In my opinion of this movie the entire video portion of this movie was absolute trash!!!! However the soundtrack that was used contained the music of a great heavy metal rock band, I recognized the music as being a band called Firstryke and the album was \"Just a Nightmare\" and it was very well written!! and I am curious to see what the rest of you movie buffs out there think of it, if can remember back that far I would appreciate the feed back, I collect old movie, and obscure movie sound tracks. It is a very time consuming hobby but is very rewarding. I have seen this bands music being sold in Germany on the net for around fifty dollars per album. Not to bad Hugh?\n",
      "Model Prediction:  POSITIVE\n",
      "Confidence Score:  0.9982814788818359\n",
      "Actual Label:  NEGATIVE\n",
      "I would most definitely have to say that this is the most terrible movie I have ever seen. It's not just the actors that are bad, but also the fact that the camera person taped the wall and the clocks for about 5 minutes at a time. Anyone that likes this must be crazy! THIS MOVIE IS A WASTE OF TIME\n",
      "Model Prediction:  NEGATIVE\n",
      "Confidence Score:  0.9997710585594177\n",
      "Actual Label:  NEGATIVE\n",
      "So one day I was in the video store looking for a movie. I came across this and rented it because it was a film I hadn't seen or even heard of.<br /><br />Now I like slasher movies in general, but this is just abysmal, not even good for laughs. Besides being ultra ultra cheap and containing all slasher film cliches and terrible acting it has the most incompetent and inept direction I have ever come across. Now sometimes the aforementioned traits can be present in a film and some enjoyment can still be had, but not here. Painful example of home-made horror.\n",
      "Model Prediction:  NEGATIVE\n",
      "Confidence Score:  0.9993957281112671\n",
      "Actual Label:  NEGATIVE\n",
      "I love cheesy horror movies, I think dead alive and bad taste are great and I think slumber party massacre II (not even related to this movie) are hilarious. But this movie absolutely stank, I didn't laugh, I didn't even enjoy it.. you can see all kinds of mistakes that aren't even campy. The best take of the scene where the woman leans out the window is the one where she smacks her head on the sill? Give me a break.<br /><br />Don't rent this thinking it's related to the slumber party massacre series. It's awful and I don't even have a clue how it got any distribution. Rent it with a fake name and burn it, do everyone else the favor.\n",
      "Model Prediction:  NEGATIVE\n",
      "Confidence Score:  0.9954372048377991\n",
      "Actual Label:  NEGATIVE\n",
      "I'm not even going to comment on what piece of trash this film is since that has already been established. However, watching this with my friends we all laughed out loud when the lead girl made a Shelley Hack reference while on the phone. We sat there trying to figure out why the writer would throw her into the mix. We can only assume he had a Charlie's Angels fixation at one time. Based on that reference, we assumed this film must have been made around her Charlie's Angels run in 1979 or 1980, but from what I've read here it was made around 1987. You sure couldn't tell that from the poor production values. It seems as though it was made by a college student for a film class. And while by no means would I expect a low-budget trash fest like this to be politically correct, the rednecks in this film sure did like to direct derogatory gay remarks to each other. Even so I'd still only rank this as the 2nd worst horror film ever made, second only to \"Nail Gun Massacre.\"\n",
      "Model Prediction:  NEGATIVE\n",
      "Confidence Score:  0.999685525894165\n",
      "Actual Label:  NEGATIVE\n",
      "my friend and i rented this one a few nights ago. and, i must say, this is the single best movie i have ever seen. i mean, woah! \"dude, we better get some brew before this joint closes\" and \"dude, linda's not wearin' a bra again.\" what poetry! woah! and it's such a wonderfuly original movie, too. i mean, you don't usually find a slasher film where every single murder is exactly the same. i mean, exactly! now that's originality. and almost all the transitions between scenes are these great close-ups of the psycho in the ER scrubs. how cool! the acting is so wonderful to. the dad was just brilliant. must have studied REAL DADS before filming. and how many movies do you find that just don't make any sense? not many. but this is one of those gems. i mean, how cool is it that one guy waited outside for like six hours to pull a prank, while his friends were both inside? that's really cool. overall i'd say this is the single greatest film of the genre, nay, in the world! *****\n",
      "Model Prediction:  POSITIVE\n",
      "Confidence Score:  0.9991275668144226\n",
      "Actual Label:  NEGATIVE\n"
     ]
    },
    {
     "name": "stdout",
     "output_type": "stream",
     "text": [
      "oh well... its funny. should have been a sadistic comedy, a lot of horror movies lack common sense,but i think a retarded caveman would weasel his way around this situation. Don't really expect Hitchcock or anything close to this. this is a good one for friends,but i wouldn't recommend it for anything else.this movie lacks all the substance of a true horror movie,the suspense,the shock,and good characters. the killer failed to be the unstoppable force that i expected him to be,and he seemed to be the average angry \"D\" student able to outsmart only stupid people. and the really funny thing is the horrible acting and the lack of emotion of the so called \"victims\"<br /><br />3/10 just expect this one in the daily funnies.\n",
      "Model Prediction:  NEGATIVE\n",
      "Confidence Score:  0.9990370273590088\n",
      "Actual Label:  NEGATIVE\n",
      "I had seen this movie when I was a boy (Before WWII) and was surprised that the local library had a copy. Saw it again after some sixty years and forgot how bad it was. This is an example of a movie that was not a \"A\" movie. No editing, poor script, weak acting and not much directing. Should not even be as high as a \"B\" Had a laugh at how jaded I've become over the years. Seems to me I thought it was good when I originally saw it.\n",
      "Model Prediction:  NEGATIVE\n",
      "Confidence Score:  0.9988441467285156\n",
      "Actual Label:  NEGATIVE\n",
      "Most of Wayne's B westerns are kind of fun in a naive way, but this one really stinks. The editing is terrible, and the direction and pacing is completely lethargic. Most of the cast stands around waiting for the mute guy to write down his thoughts on a pad of paper, and I was bored. Sorry, Duke, but this gets a 1.\n",
      "Model Prediction:  NEGATIVE\n",
      "Confidence Score:  0.9997400641441345\n",
      "Actual Label:  NEGATIVE\n",
      "It´s long time that I and my wife didn´t see such a boring thriller. It´s definitively NOT a gripping story and it is paced so slowly that we nearly fell asleep. This could be instead a very low budget TV crime series. There are some ridiculous scenes like the one where mafia boss Pirano wants to see the jury lady in a red clothes or another mafioso cannot stop to think about her and so on. Okay perhaps this should have been a romantic thriller but believe me you really don´t miss anything. We gave 4/10.\n",
      "Model Prediction:  NEGATIVE\n",
      "Confidence Score:  0.9994041919708252\n",
      "Actual Label:  NEGATIVE\n",
      "Two years after this movie was made, \"The Juror\" came out. Don't waste your time on this one. See \"The Juror\" instead. \"The Juror\" is essentially the same story as \"Trial By Jury,\" with better acting, better directing and a far more gripping aura about it. William Hurt was not believable as a cop-gone-bad, and Armand Assante couldn't be more unlike a mob boss if they had dressed him in a clown outfit. You didn't become involved enough with Joann Whalley's character to be that upset by what was happening to her. Also, the way in which she interacted with the jury wasn't compelling or interesting in any way. Kathleen Quinlan's role as a hooker/killer wasn't fleshed out enough and quite frankly was unnecessary for to the plot.\n",
      "Model Prediction:  NEGATIVE\n",
      "Confidence Score:  0.9993014335632324\n",
      "Actual Label:  NEGATIVE\n",
      "A antique shop-owner in NYC, played by Joanne Whalley(Valerie Alston)gets put on a US District Court jury, on a trial of a known Mafioso Armand Asante(Rusty Pirone), and most of this very slow-paced film revolves around attempts of Pirone attempting to get Whalley to acquit him of murder, by threatening to kill her son, and herself. Much action ensues, involving gruesome mob-rub outs, interspread with Willam Hurt as the go-between. Much of this silly, disjointed mess surrounds Hurt and Asante's obsession with Whalley, courtroom scenes that we've all seen time and again, and an ending that is unbelievable. 3/10 is probably going easy on this waste of time.\n",
      "Model Prediction:  NEGATIVE\n",
      "Confidence Score:  0.9995309114456177\n",
      "Actual Label:  NEGATIVE\n",
      "The movie is a happy lullaby, was made to make us sleep. And that´s what we do, as we dream about the top beautiful Natasha Henstridge. No screenplay, no deep characters, nothing special. So, let´s sleep.\n",
      "Model Prediction:  NEGATIVE\n",
      "Confidence Score:  0.9887802600860596\n",
      "Actual Label:  NEGATIVE\n",
      "This is without doubt the worst movie i have ever seen. And believe me, I have seen a lot of movies. The unbelievable twist the movie makes - going from an extremely bad \"Alien lifeforms inhabit earth\" movie with sickening bad acting, to a film that tries to spread an Archchristian \"Judgement day is at hand, seek Jesus or though shall burn for all eternity in the fiery debts of hell\" message - left me stunned after being tormented for 85 minutes. Even religious Christians must be ashamed or furious by watching their beliefs being posted like this. I didn't know what to do with myself when I watched the horrible acting that could have been performed by 7-year-olds. Simply disgusting. I am not a Christian nor very religious. But if I had been, I would no longer be afraid of Hell. Rich Christiano has shown be something much, much worse.\n",
      "Model Prediction:  NEGATIVE\n",
      "Confidence Score:  0.9996064305305481\n",
      "Actual Label:  NEGATIVE\n",
      "This movie was the biggest piece of garbage I've seen in a long time.<br /><br />It's marketed as as Sci-Fi when in fact it's nothing more than a Christian recruiting tool.<br /><br />It tells you quite a bit about the state of the Christian church, when they have to resort to deception just to get you to listen to their sales pitch. But then again what do you expect from an organization that would go through such great lengths to help protect such an enormous amount of child molesters in their organization.<br /><br />Religion is full of nothing but sexual deviants, hypocrites, and war mongers. Let's not forget, our bumbling former President actually came out and said that \"God told him\" to invade Iraq. And nobody questioned if he was hearing voices, or seeing things? <br /><br />Anyway, going of the subject here. No this movie has nothing to do with UFOs whatsoever, it's nothing more than a religious production.\n",
      "Model Prediction:  NEGATIVE\n",
      "Confidence Score:  0.9978693723678589\n",
      "Actual Label:  NEGATIVE\n",
      "As you can read the only good comment about this movie is made by someone who actually watch it AT HIS CHURCH ! <br /><br />Anyway, movie had a good B movie sci-fi beginning, everything was there to make a good entertaining , easy to watch movie, then everything felt in this religious Jesus-will-save-everyone brainwashing mode.<br /><br />story start with 2 main characters, 2 reporters but it fast give the first role to that Jesus freak who is there to save everyone's soul with this con-descendant attitude.<br /><br />In a few words: this movie goes from entertaining to brainwashing in about 30 minutes<br /><br />Waste of time, waste of money... AVOID IT\n",
      "Model Prediction:  NEGATIVE\n",
      "Confidence Score:  0.9989460110664368\n",
      "Actual Label:  NEGATIVE\n",
      "OK, this movie, was the worst display I have seen in years. The actors weren't to bad (I figured it was a b-movie so they were doing b-movie acting). Anyways, I watched this movie, thinking, OH COOL a UFO Sci-Fi movie. WRONG. It was just an excuse for radical Christians to push a message onto people. The last scene was extremely messed up. That is a horrible thing to do to a person to make them believe in something. What someone believe in is a matter of opinion. This movie just shows how corrupted religion is, especially Christianity.<br /><br />If you want to watch a b-movie, this ain't. If you want to watch a movie that is TRYING to brainwash the masses. Well this is the pick of the litter. go right for it. If you are going to convey a message, do it, don't force it. Ridiculous, that people would abuse the media to such a degree. Especially, Christians.\n",
      "Model Prediction:  NEGATIVE\n",
      "Confidence Score:  0.99907386302948\n",
      "Actual Label:  NEGATIVE\n",
      "This movie is nothing more than Christian propaganda. It started off like a good sci-fi movie and then works a syrupy sweet Christian theme into the story which is totally unrelated. I had to turn it off half way through because I felt tricked into renting it. The catholic church has officially announced that aliens do NOT contradict belief in God.<br /><br />The movie is slightly entertaining despite this but the dialog is unbelievable, writing and acting is mostly rubbish and all in all, this movie is mostly a stinker to be avoided.<br /><br />There was obviously some research done into the phenomenon by the filmmakers, but then you quickly realize that it is only for the purpose to debunk and inject their own paranoid religious views into a valid interesting subject. If you are a zealous religious fanatic who believes in demons and angels , you will love this movie.\n",
      "Model Prediction:  NEGATIVE\n",
      "Confidence Score:  0.9760373830795288\n",
      "Actual Label:  NEGATIVE\n"
     ]
    },
    {
     "name": "stdout",
     "output_type": "stream",
     "text": [
      "This movie starts really good.<br /><br />After half of the movie it wraps to a religious Christian crap.<br /><br />Some really Christian with psycho problems are talking about good and believe in Christ - or you go to hell.<br /><br />Don't watch it - it's pure propaganda and its pure wrong ...<br /><br />This movie starts really good.<br /><br />After half of the movie it wraps to a religious Christian crap.<br /><br />Some really Christian with psycho problems are talking about good and believe in Christ - or you go to hell.<br /><br />Don't watch it - it's pure propaganda and its pure wrong ...\n",
      "Model Prediction:  POSITIVE\n",
      "Confidence Score:  0.8807967901229858\n",
      "Actual Label:  NEGATIVE\n",
      "First of all, i have nothing against Christianity. i believe, every person has the right to believe what he or she chooses. But i cannot imagine how dumb a person has to be to believe this! What a waste of believers' money. They'd better use it to feed some starving families in the third world countries. I don't want to talk about talk acting or plot of this \"movie\", because I couldn't find any of those in this. Story's simple - two reporters, one (A) is atheist, the other (B) for some sake has abandoned religion. B regains his confidence in religion and teaches A a lesson - believe in Christ or go to hell. This message appears after like ten minutes and keeps repeating to the end of the movie. People, do not believe the rating of this \"movie\", read reviews first. I didn't and wasted an hour of my life :( PS: Why is it classified as sci-fi? Because of those few weird sounds and a bit of bright light from the sky? PPS: U.F.O. = Satan's evil doings? That's a new one :)\n",
      "Model Prediction:  NEGATIVE\n",
      "Confidence Score:  0.9996057152748108\n",
      "Actual Label:  NEGATIVE\n",
      "Director Fabio Barreto got a strange Academy Nominea for his last movie O Quatrilho. Quatrilho is a bad movie, but in Bella Donna, Barreto did one of the Worst movies of All Time. His adaptation of the novel Riacho Doce is ridiculous. Think with me how poor brazilians fishermen speak a perfect english? In the film they do. There isn't a Screenplay, It's only a very long videoclip with a beautiful places and many sex scenes with Moscovis and Henstridge.\n",
      "Model Prediction:  NEGATIVE\n",
      "Confidence Score:  0.9993531107902527\n",
      "Actual Label:  NEGATIVE\n"
     ]
    }
   ],
   "source": [
    "index = 0\n",
    "for review in neg_reviews_test[:200]:\n",
    "    if (len(review) > 1000):\n",
    "        continue\n",
    "    total_count += 1\n",
    "    result = sentiment_classifier(review)[0]\n",
    "    pred = result['label']\n",
    "    conf_score = result['score']\n",
    "    print(review)\n",
    "    print(\"Model Prediction: \", pred)\n",
    "    print(\"Confidence Score: \", conf_score)\n",
    "    print(\"Actual Label: \", \"NEGATIVE\")\n",
    "    if (pred == 'NEGATIVE'):\n",
    "        precision_score += 1\n",
    "    index += 1"
   ]
  },
  {
   "cell_type": "code",
   "execution_count": 88,
   "metadata": {},
   "outputs": [
    {
     "data": {
      "text/plain": [
       "0.9532710280373832"
      ]
     },
     "execution_count": 88,
     "metadata": {},
     "output_type": "execute_result"
    }
   ],
   "source": [
    "precision_score / total_count"
   ]
  },
  {
   "cell_type": "code",
   "execution_count": 89,
   "metadata": {},
   "outputs": [
    {
     "data": {
      "text/plain": [
       "102"
      ]
     },
     "execution_count": 89,
     "metadata": {},
     "output_type": "execute_result"
    }
   ],
   "source": [
    "precision_score"
   ]
  },
  {
   "cell_type": "code",
   "execution_count": 90,
   "metadata": {},
   "outputs": [
    {
     "data": {
      "text/plain": [
       "107"
      ]
     },
     "execution_count": 90,
     "metadata": {},
     "output_type": "execute_result"
    }
   ],
   "source": [
    "total_count"
   ]
  },
  {
   "cell_type": "markdown",
   "metadata": {},
   "source": [
    "### Text Summarization Task"
   ]
  },
  {
   "cell_type": "code",
   "execution_count": 105,
   "metadata": {},
   "outputs": [
    {
     "data": {
      "application/vnd.jupyter.widget-view+json": {
       "model_id": "62738e77ebb6466a94a08a431022bdf7",
       "version_major": 2,
       "version_minor": 0
      },
      "text/plain": [
       "HBox(children=(IntProgress(value=0, description='Downloading', max=1199, style=ProgressStyle(description_width…"
      ]
     },
     "metadata": {},
     "output_type": "display_data"
    },
    {
     "name": "stdout",
     "output_type": "stream",
     "text": [
      "\n"
     ]
    },
    {
     "data": {
      "application/vnd.jupyter.widget-view+json": {
       "model_id": "296632b7654d4dd6b059d9e8f88f5274",
       "version_major": 2,
       "version_minor": 0
      },
      "text/plain": [
       "HBox(children=(IntProgress(value=0, description='Downloading', max=892146080, style=ProgressStyle(description_…"
      ]
     },
     "metadata": {},
     "output_type": "display_data"
    },
    {
     "name": "stdout",
     "output_type": "stream",
     "text": [
      "\n"
     ]
    },
    {
     "name": "stderr",
     "output_type": "stream",
     "text": [
      "All model checkpoint layers were used when initializing TFT5ForConditionalGeneration.\n",
      "\n",
      "All the layers of TFT5ForConditionalGeneration were initialized from the model checkpoint at t5-base.\n",
      "If your task is similar to the task the model of the checkpoint was trained on, you can already use TFT5ForConditionalGeneration for predictions without further training.\n"
     ]
    },
    {
     "data": {
      "application/vnd.jupyter.widget-view+json": {
       "model_id": "8f6d4f426228453dae36505d8b868164",
       "version_major": 2,
       "version_minor": 0
      },
      "text/plain": [
       "HBox(children=(IntProgress(value=0, description='Downloading', max=791656, style=ProgressStyle(description_wid…"
      ]
     },
     "metadata": {},
     "output_type": "display_data"
    },
    {
     "name": "stdout",
     "output_type": "stream",
     "text": [
      "\n"
     ]
    },
    {
     "data": {
      "application/vnd.jupyter.widget-view+json": {
       "model_id": "341579e00b7a433997db48baad76c94b",
       "version_major": 2,
       "version_minor": 0
      },
      "text/plain": [
       "HBox(children=(IntProgress(value=0, description='Downloading', max=1389353, style=ProgressStyle(description_wi…"
      ]
     },
     "metadata": {},
     "output_type": "display_data"
    },
    {
     "name": "stdout",
     "output_type": "stream",
     "text": [
      "\n"
     ]
    }
   ],
   "source": [
    "text_summarization_agent = pipeline(\"summarization\", model=\"t5-base\", tokenizer=\"t5-base\", framework=\"tf\")"
   ]
  },
  {
   "cell_type": "code",
   "execution_count": 108,
   "metadata": {},
   "outputs": [],
   "source": [
    "## load text document\n",
    "doc_file = open(\"../datasets/wikipedia_articles/jpmorgan.txt\")\n",
    "doc_str = doc_file.read()\n",
    "\n",
    "\n",
    "test_str = \"Daily exercise is a proven method for increasing longevity\"\n",
    "result = text_summarization_agent(doc_str)"
   ]
  },
  {
   "cell_type": "code",
   "execution_count": 109,
   "metadata": {},
   "outputs": [
    {
     "data": {
      "text/plain": [
       "[{'summary_text': \"as of September 30, 2021, JPMorgan Chase is the largest bank in the united states . it is the world's largest bank by market capitalization and the fifth-largest bank in terms of total assets . the bank is considered to be a universal bank and a custodian bank .\"}]"
      ]
     },
     "execution_count": 109,
     "metadata": {},
     "output_type": "execute_result"
    }
   ],
   "source": [
    "result"
   ]
  },
  {
   "cell_type": "code",
   "execution_count": null,
   "metadata": {},
   "outputs": [],
   "source": []
  }
 ],
 "metadata": {
  "kernelspec": {
   "display_name": "Python 3",
   "language": "python",
   "name": "python3"
  },
  "language_info": {
   "codemirror_mode": {
    "name": "ipython",
    "version": 3
   },
   "file_extension": ".py",
   "mimetype": "text/x-python",
   "name": "python",
   "nbconvert_exporter": "python",
   "pygments_lexer": "ipython3",
   "version": "3.7.4"
  }
 },
 "nbformat": 4,
 "nbformat_minor": 2
}
